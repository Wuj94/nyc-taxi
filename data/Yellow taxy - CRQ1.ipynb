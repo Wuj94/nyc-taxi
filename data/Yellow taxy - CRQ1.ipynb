{
 "cells": [
  {
   "cell_type": "markdown",
   "metadata": {},
   "source": [
    "# [CRQ1]: Does the fare for mile change across NY's borough? We want to discover whether the expenses of a user that enjoys Taxis in one zone is different from those that uses it in another one."
   ]
  },
  {
   "cell_type": "code",
   "execution_count": 1,
   "metadata": {},
   "outputs": [],
   "source": [
    "import pandas as pd\n",
    "import matplotlib.pyplot as plt\n",
    "import seaborn as sns\n",
    "import numpy as np\n",
    "from scipy import stats"
   ]
  },
  {
   "cell_type": "code",
   "execution_count": 2,
   "metadata": {},
   "outputs": [
    {
     "name": "stdout",
     "output_type": "stream",
     "text": [
      "Number of rows: 8704498\n",
      "Number of columns:  8\n"
     ]
    },
    {
     "data": {
      "text/html": [
       "<div>\n",
       "<style scoped>\n",
       "    .dataframe tbody tr th:only-of-type {\n",
       "        vertical-align: middle;\n",
       "    }\n",
       "\n",
       "    .dataframe tbody tr th {\n",
       "        vertical-align: top;\n",
       "    }\n",
       "\n",
       "    .dataframe thead th {\n",
       "        text-align: right;\n",
       "    }\n",
       "</style>\n",
       "<table border=\"1\" class=\"dataframe\">\n",
       "  <thead>\n",
       "    <tr style=\"text-align: right;\">\n",
       "      <th></th>\n",
       "      <th>tpep_pickup_datetime</th>\n",
       "      <th>tpep_dropoff_datetime</th>\n",
       "      <th>trip_distance</th>\n",
       "      <th>PULocationID</th>\n",
       "      <th>DOLocationID</th>\n",
       "      <th>fare_amount</th>\n",
       "      <th>LocationID</th>\n",
       "      <th>Borough</th>\n",
       "    </tr>\n",
       "  </thead>\n",
       "  <tbody>\n",
       "    <tr>\n",
       "      <th>0</th>\n",
       "      <td>2018-01-01 00:21:05</td>\n",
       "      <td>2018-01-01 00:24:23</td>\n",
       "      <td>0.5</td>\n",
       "      <td>41</td>\n",
       "      <td>24</td>\n",
       "      <td>4.5</td>\n",
       "      <td>41</td>\n",
       "      <td>Manhattan</td>\n",
       "    </tr>\n",
       "    <tr>\n",
       "      <th>1</th>\n",
       "      <td>2018-01-01 00:44:55</td>\n",
       "      <td>2018-01-01 01:03:05</td>\n",
       "      <td>2.7</td>\n",
       "      <td>239</td>\n",
       "      <td>140</td>\n",
       "      <td>14.0</td>\n",
       "      <td>239</td>\n",
       "      <td>Manhattan</td>\n",
       "    </tr>\n",
       "    <tr>\n",
       "      <th>2</th>\n",
       "      <td>2018-01-01 00:08:26</td>\n",
       "      <td>2018-01-01 00:14:21</td>\n",
       "      <td>0.8</td>\n",
       "      <td>262</td>\n",
       "      <td>141</td>\n",
       "      <td>6.0</td>\n",
       "      <td>262</td>\n",
       "      <td>Manhattan</td>\n",
       "    </tr>\n",
       "    <tr>\n",
       "      <th>3</th>\n",
       "      <td>2018-01-01 00:20:22</td>\n",
       "      <td>2018-01-01 00:52:51</td>\n",
       "      <td>10.2</td>\n",
       "      <td>140</td>\n",
       "      <td>257</td>\n",
       "      <td>33.5</td>\n",
       "      <td>140</td>\n",
       "      <td>Manhattan</td>\n",
       "    </tr>\n",
       "    <tr>\n",
       "      <th>4</th>\n",
       "      <td>2018-01-01 00:09:18</td>\n",
       "      <td>2018-01-01 00:27:06</td>\n",
       "      <td>2.5</td>\n",
       "      <td>246</td>\n",
       "      <td>239</td>\n",
       "      <td>12.5</td>\n",
       "      <td>246</td>\n",
       "      <td>Manhattan</td>\n",
       "    </tr>\n",
       "  </tbody>\n",
       "</table>\n",
       "</div>"
      ],
      "text/plain": [
       "  tpep_pickup_datetime tpep_dropoff_datetime  trip_distance  PULocationID  \\\n",
       "0  2018-01-01 00:21:05   2018-01-01 00:24:23            0.5            41   \n",
       "1  2018-01-01 00:44:55   2018-01-01 01:03:05            2.7           239   \n",
       "2  2018-01-01 00:08:26   2018-01-01 00:14:21            0.8           262   \n",
       "3  2018-01-01 00:20:22   2018-01-01 00:52:51           10.2           140   \n",
       "4  2018-01-01 00:09:18   2018-01-01 00:27:06            2.5           246   \n",
       "\n",
       "   DOLocationID  fare_amount  LocationID    Borough  \n",
       "0            24          4.5          41  Manhattan  \n",
       "1           140         14.0         239  Manhattan  \n",
       "2           141          6.0         262  Manhattan  \n",
       "3           257         33.5         140  Manhattan  \n",
       "4           239         12.5         246  Manhattan  "
      ]
     },
     "execution_count": 2,
     "metadata": {},
     "output_type": "execute_result"
    }
   ],
   "source": [
    "#Month of JANUARY:\n",
    "#We imported only the columns useful to answer our Rquestion and data for which trip_distance != 0.\n",
    "\n",
    "data=pd.read_csv('/Users/Enzopc/Desktop/yellow_tripdata_2018-01.csv', usecols=['tpep_pickup_datetime','tpep_dropoff_datetime','trip_distance','PULocationID', 'DOLocationID', 'fare_amount'])\n",
    "zone=pd.read_csv('/Users/Enzopc/Desktop/taxi _zone_lookup.csv', usecols=['LocationID', 'Borough'])\n",
    "datazone=pd.merge(data, zone, how='left', left_on=['PULocationID'],right_on=['LocationID'])\n",
    "datazone=datazone[datazone.trip_distance != 0]\n",
    "\n",
    "print(\"Number of rows:\", datazone.shape[0])\n",
    "print(\"Number of columns: \", datazone.shape[1])\n",
    "datazone.head()"
   ]
  },
  {
   "cell_type": "code",
   "execution_count": 3,
   "metadata": {},
   "outputs": [],
   "source": [
    "#transformation from string to datetime\n",
    "datazone['tpep_pickup_datetime']=pd.to_datetime(datazone['tpep_pickup_datetime'], format= \"%Y-%m-%d %H:%M:%S\")\n",
    "datazone['tpep_dropoff_datetime']=pd.to_datetime(datazone['tpep_dropoff_datetime'],format= \"%Y-%m-%d %H:%M:%S\")"
   ]
  },
  {
   "cell_type": "code",
   "execution_count": 4,
   "metadata": {},
   "outputs": [],
   "source": [
    "#trip_time: difference between dropoff and pickup\n",
    "trip_duration= datazone['tpep_dropoff_datetime'] - datazone['tpep_pickup_datetime']"
   ]
  },
  {
   "cell_type": "code",
   "execution_count": 5,
   "metadata": {},
   "outputs": [],
   "source": [
    "#insert the new column\n",
    "datazone.insert(loc=2, column='trip_duration', value= trip_duration)"
   ]
  },
  {
   "cell_type": "code",
   "execution_count": 6,
   "metadata": {},
   "outputs": [],
   "source": [
    "#Conversion in minutes\n",
    "datazone.loc[:,'minutes_trip_duration']= datazone['trip_duration'].dt.seconds/60\n",
    "datazone['minutes_trip_duration']= round(datazone['minutes_trip_duration'].astype('float64'),2)"
   ]
  },
  {
   "cell_type": "code",
   "execution_count": 7,
   "metadata": {},
   "outputs": [
    {
     "data": {
      "text/plain": [
       "count    8.704498e+06\n",
       "mean     1.218203e+01\n",
       "std      1.108726e+01\n",
       "min     -4.200000e+02\n",
       "25%      6.500000e+00\n",
       "50%      9.000000e+00\n",
       "75%      1.350000e+01\n",
       "max      8.016000e+03\n",
       "Name: fare_amount, dtype: float64"
      ]
     },
     "execution_count": 7,
     "metadata": {},
     "output_type": "execute_result"
    }
   ],
   "source": [
    "datazone['fare_amount'].describe()"
   ]
  },
  {
   "cell_type": "markdown",
   "metadata": {},
   "source": [
    "***Data Cleaning***\n",
    "Fare_amount: some values are negative. The cases were considered as being machine errors during the data entry. As done for RQ4, they were replaced by their absolute values. Furthermore, as the minimum fare_amount that is chargeable for any service is $2.5, every transaction falling below that amount was replaced by the median value of the fare_amount 9.0 (50th percentile)"
   ]
  },
  {
   "cell_type": "code",
   "execution_count": 9,
   "metadata": {},
   "outputs": [],
   "source": [
    "def Clean_data(data):\n",
    "    data.fare_amount = data.fare_amount.abs()\n",
    "    indices_oi = data[(data.fare_amount<2.5)].index\n",
    "    data.loc[indices_oi,'fare_amount'] = 9.0"
   ]
  },
  {
   "cell_type": "code",
   "execution_count": 10,
   "metadata": {},
   "outputs": [],
   "source": [
    "Clean_data(datazone)"
   ]
  },
  {
   "cell_type": "code",
   "execution_count": 11,
   "metadata": {},
   "outputs": [
    {
     "data": {
      "text/plain": [
       "count    8.704498e+06\n",
       "mean     1.218917e+01\n",
       "std      1.108002e+01\n",
       "min      2.500000e+00\n",
       "25%      6.500000e+00\n",
       "50%      9.000000e+00\n",
       "75%      1.350000e+01\n",
       "max      8.016000e+03\n",
       "Name: fare_amount, dtype: float64"
      ]
     },
     "execution_count": 11,
     "metadata": {},
     "output_type": "execute_result"
    }
   ],
   "source": [
    "datazone['fare_amount'].describe()"
   ]
  },
  {
   "cell_type": "code",
   "execution_count": 12,
   "metadata": {},
   "outputs": [],
   "source": [
    "#Considering the fare amount:  Compute the price per mile equation for each trip.\n",
    "priceXmile= datazone['fare_amount']/datazone['trip_distance']"
   ]
  },
  {
   "cell_type": "code",
   "execution_count": 13,
   "metadata": {},
   "outputs": [
    {
     "data": {
      "text/html": [
       "<div>\n",
       "<style scoped>\n",
       "    .dataframe tbody tr th:only-of-type {\n",
       "        vertical-align: middle;\n",
       "    }\n",
       "\n",
       "    .dataframe tbody tr th {\n",
       "        vertical-align: top;\n",
       "    }\n",
       "\n",
       "    .dataframe thead th {\n",
       "        text-align: right;\n",
       "    }\n",
       "</style>\n",
       "<table border=\"1\" class=\"dataframe\">\n",
       "  <thead>\n",
       "    <tr style=\"text-align: right;\">\n",
       "      <th></th>\n",
       "      <th>tpep_pickup_datetime</th>\n",
       "      <th>tpep_dropoff_datetime</th>\n",
       "      <th>priceXmile</th>\n",
       "      <th>trip_duration</th>\n",
       "      <th>trip_distance</th>\n",
       "      <th>PULocationID</th>\n",
       "      <th>DOLocationID</th>\n",
       "      <th>fare_amount</th>\n",
       "      <th>LocationID</th>\n",
       "      <th>Borough</th>\n",
       "      <th>minutes_trip_duration</th>\n",
       "    </tr>\n",
       "  </thead>\n",
       "  <tbody>\n",
       "    <tr>\n",
       "      <th>0</th>\n",
       "      <td>2018-01-01 00:21:05</td>\n",
       "      <td>2018-01-01 00:24:23</td>\n",
       "      <td>9.000000</td>\n",
       "      <td>00:03:18</td>\n",
       "      <td>0.5</td>\n",
       "      <td>41</td>\n",
       "      <td>24</td>\n",
       "      <td>4.5</td>\n",
       "      <td>41</td>\n",
       "      <td>Manhattan</td>\n",
       "      <td>3.30</td>\n",
       "    </tr>\n",
       "    <tr>\n",
       "      <th>1</th>\n",
       "      <td>2018-01-01 00:44:55</td>\n",
       "      <td>2018-01-01 01:03:05</td>\n",
       "      <td>5.185185</td>\n",
       "      <td>00:18:10</td>\n",
       "      <td>2.7</td>\n",
       "      <td>239</td>\n",
       "      <td>140</td>\n",
       "      <td>14.0</td>\n",
       "      <td>239</td>\n",
       "      <td>Manhattan</td>\n",
       "      <td>18.17</td>\n",
       "    </tr>\n",
       "    <tr>\n",
       "      <th>2</th>\n",
       "      <td>2018-01-01 00:08:26</td>\n",
       "      <td>2018-01-01 00:14:21</td>\n",
       "      <td>7.500000</td>\n",
       "      <td>00:05:55</td>\n",
       "      <td>0.8</td>\n",
       "      <td>262</td>\n",
       "      <td>141</td>\n",
       "      <td>6.0</td>\n",
       "      <td>262</td>\n",
       "      <td>Manhattan</td>\n",
       "      <td>5.92</td>\n",
       "    </tr>\n",
       "    <tr>\n",
       "      <th>3</th>\n",
       "      <td>2018-01-01 00:20:22</td>\n",
       "      <td>2018-01-01 00:52:51</td>\n",
       "      <td>3.284314</td>\n",
       "      <td>00:32:29</td>\n",
       "      <td>10.2</td>\n",
       "      <td>140</td>\n",
       "      <td>257</td>\n",
       "      <td>33.5</td>\n",
       "      <td>140</td>\n",
       "      <td>Manhattan</td>\n",
       "      <td>32.48</td>\n",
       "    </tr>\n",
       "    <tr>\n",
       "      <th>4</th>\n",
       "      <td>2018-01-01 00:09:18</td>\n",
       "      <td>2018-01-01 00:27:06</td>\n",
       "      <td>5.000000</td>\n",
       "      <td>00:17:48</td>\n",
       "      <td>2.5</td>\n",
       "      <td>246</td>\n",
       "      <td>239</td>\n",
       "      <td>12.5</td>\n",
       "      <td>246</td>\n",
       "      <td>Manhattan</td>\n",
       "      <td>17.80</td>\n",
       "    </tr>\n",
       "  </tbody>\n",
       "</table>\n",
       "</div>"
      ],
      "text/plain": [
       "  tpep_pickup_datetime tpep_dropoff_datetime  priceXmile trip_duration  \\\n",
       "0  2018-01-01 00:21:05   2018-01-01 00:24:23    9.000000      00:03:18   \n",
       "1  2018-01-01 00:44:55   2018-01-01 01:03:05    5.185185      00:18:10   \n",
       "2  2018-01-01 00:08:26   2018-01-01 00:14:21    7.500000      00:05:55   \n",
       "3  2018-01-01 00:20:22   2018-01-01 00:52:51    3.284314      00:32:29   \n",
       "4  2018-01-01 00:09:18   2018-01-01 00:27:06    5.000000      00:17:48   \n",
       "\n",
       "   trip_distance  PULocationID  DOLocationID  fare_amount  LocationID  \\\n",
       "0            0.5            41            24          4.5          41   \n",
       "1            2.7           239           140         14.0         239   \n",
       "2            0.8           262           141          6.0         262   \n",
       "3           10.2           140           257         33.5         140   \n",
       "4            2.5           246           239         12.5         246   \n",
       "\n",
       "     Borough  minutes_trip_duration  \n",
       "0  Manhattan                   3.30  \n",
       "1  Manhattan                  18.17  \n",
       "2  Manhattan                   5.92  \n",
       "3  Manhattan                  32.48  \n",
       "4  Manhattan                  17.80  "
      ]
     },
     "execution_count": 13,
     "metadata": {},
     "output_type": "execute_result"
    }
   ],
   "source": [
    "#insert the new column\n",
    "datazone.insert(loc=2, column='priceXmile', value= priceXmile)\n",
    "datazone.head()"
   ]
  },
  {
   "cell_type": "code",
   "execution_count": 14,
   "metadata": {},
   "outputs": [
    {
     "data": {
      "text/plain": [
       "Borough\n",
       "Bronx              9.073871\n",
       "Brooklyn           6.623838\n",
       "EWR              610.978152\n",
       "Manhattan          6.793540\n",
       "Queens             6.795051\n",
       "Staten Island     13.816989\n",
       "Unknown           21.975924\n",
       "Name: priceXmile, dtype: float64"
      ]
     },
     "execution_count": 14,
     "metadata": {},
     "output_type": "execute_result"
    }
   ],
   "source": [
    "#Run the mean of the new variable for each borough\n",
    "datazone.groupby('Borough').agg(np.mean)['priceXmile']"
   ]
  },
  {
   "cell_type": "code",
   "execution_count": 15,
   "metadata": {},
   "outputs": [
    {
     "data": {
      "text/plain": [
       "Borough\n",
       "Bronx              70.816201\n",
       "Brooklyn           81.389915\n",
       "EWR              1687.908982\n",
       "Manhattan          43.174502\n",
       "Queens            100.875550\n",
       "Staten Island      60.615991\n",
       "Unknown           290.679099\n",
       "Name: priceXmile, dtype: float64"
      ]
     },
     "execution_count": 15,
     "metadata": {},
     "output_type": "execute_result"
    }
   ],
   "source": [
    "#Run the standard deviation of the new variable for each borough\n",
    "datazone.groupby('Borough').agg(np.std)['priceXmile']"
   ]
  },
  {
   "cell_type": "markdown",
   "metadata": {},
   "source": [
    "# fare plot!\n",
    "then plot the distribution. What do you see?"
   ]
  },
  {
   "cell_type": "code",
   "execution_count": null,
   "metadata": {},
   "outputs": [],
   "source": [
    "#?????????\n",
    "\n",
    "plt.hist(datazone['priceXmile'], color = 'blue', edgecolor = 'black',\n",
    "         bins = int(180/5))\n",
    "\n",
    "# seaborn histogram\n",
    "sns.distplot(datazone['priceXmile'], hist=True, kde=False, \n",
    "             bins=int(180/5), color = 'blue',\n",
    "             hist_kws={'edgecolor':'black'})\n",
    "# Add labels\n",
    "plt.title('Histogram of priceXmile')\n",
    "\n",
    "#or\n",
    "# Density Plot and Histogram \n",
    "sns.distplot(datazone['priceXmile'], hist=True, kde=True, \n",
    "             bins=100, color = 'darkblue', \n",
    "             hist_kws={'edgecolor':'black'},\n",
    "             kde_kws={'linewidth': 4})"
   ]
  }
 ],
 "metadata": {
  "kernelspec": {
   "display_name": "Python 3",
   "language": "python",
   "name": "python3"
  },
  "language_info": {
   "codemirror_mode": {
    "name": "ipython",
    "version": 3
   },
   "file_extension": ".py",
   "mimetype": "text/x-python",
   "name": "python",
   "nbconvert_exporter": "python",
   "pygments_lexer": "ipython3",
   "version": "3.6.4"
  }
 },
 "nbformat": 4,
 "nbformat_minor": 2
}
