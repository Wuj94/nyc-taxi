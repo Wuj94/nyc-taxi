{
 "cells": [
  {
   "cell_type": "markdown",
   "metadata": {},
   "source": [
    "# [CRQ1]: Does the fare for mile change across NY's borough? We want to discover whether the expenses of a user that enjoys Taxis in one zone is different from those that uses it in another one."
   ]
  },
  {
   "cell_type": "code",
   "execution_count": 1,
   "metadata": {},
   "outputs": [],
   "source": [
    "import pandas as pd\n",
    "import matplotlib.pyplot as plt\n",
    "import seaborn as sns\n",
    "import numpy as np\n",
    "from scipy import stats"
   ]
  },
  {
   "cell_type": "code",
   "execution_count": 2,
   "metadata": {},
   "outputs": [
    {
     "name": "stdout",
     "output_type": "stream",
     "text": [
      "Number of rows: 8704498\n",
      "Number of columns:  8\n"
     ]
    },
    {
     "data": {
      "text/html": [
       "<div>\n",
       "<style scoped>\n",
       "    .dataframe tbody tr th:only-of-type {\n",
       "        vertical-align: middle;\n",
       "    }\n",
       "\n",
       "    .dataframe tbody tr th {\n",
       "        vertical-align: top;\n",
       "    }\n",
       "\n",
       "    .dataframe thead th {\n",
       "        text-align: right;\n",
       "    }\n",
       "</style>\n",
       "<table border=\"1\" class=\"dataframe\">\n",
       "  <thead>\n",
       "    <tr style=\"text-align: right;\">\n",
       "      <th></th>\n",
       "      <th>tpep_pickup_datetime</th>\n",
       "      <th>tpep_dropoff_datetime</th>\n",
       "      <th>trip_distance</th>\n",
       "      <th>PULocationID</th>\n",
       "      <th>DOLocationID</th>\n",
       "      <th>fare_amount</th>\n",
       "      <th>LocationID</th>\n",
       "      <th>Borough</th>\n",
       "    </tr>\n",
       "  </thead>\n",
       "  <tbody>\n",
       "    <tr>\n",
       "      <th>0</th>\n",
       "      <td>2018-01-01 00:21:05</td>\n",
       "      <td>2018-01-01 00:24:23</td>\n",
       "      <td>0.5</td>\n",
       "      <td>41</td>\n",
       "      <td>24</td>\n",
       "      <td>4.5</td>\n",
       "      <td>41</td>\n",
       "      <td>Manhattan</td>\n",
       "    </tr>\n",
       "    <tr>\n",
       "      <th>1</th>\n",
       "      <td>2018-01-01 00:44:55</td>\n",
       "      <td>2018-01-01 01:03:05</td>\n",
       "      <td>2.7</td>\n",
       "      <td>239</td>\n",
       "      <td>140</td>\n",
       "      <td>14.0</td>\n",
       "      <td>239</td>\n",
       "      <td>Manhattan</td>\n",
       "    </tr>\n",
       "    <tr>\n",
       "      <th>2</th>\n",
       "      <td>2018-01-01 00:08:26</td>\n",
       "      <td>2018-01-01 00:14:21</td>\n",
       "      <td>0.8</td>\n",
       "      <td>262</td>\n",
       "      <td>141</td>\n",
       "      <td>6.0</td>\n",
       "      <td>262</td>\n",
       "      <td>Manhattan</td>\n",
       "    </tr>\n",
       "    <tr>\n",
       "      <th>3</th>\n",
       "      <td>2018-01-01 00:20:22</td>\n",
       "      <td>2018-01-01 00:52:51</td>\n",
       "      <td>10.2</td>\n",
       "      <td>140</td>\n",
       "      <td>257</td>\n",
       "      <td>33.5</td>\n",
       "      <td>140</td>\n",
       "      <td>Manhattan</td>\n",
       "    </tr>\n",
       "    <tr>\n",
       "      <th>4</th>\n",
       "      <td>2018-01-01 00:09:18</td>\n",
       "      <td>2018-01-01 00:27:06</td>\n",
       "      <td>2.5</td>\n",
       "      <td>246</td>\n",
       "      <td>239</td>\n",
       "      <td>12.5</td>\n",
       "      <td>246</td>\n",
       "      <td>Manhattan</td>\n",
       "    </tr>\n",
       "  </tbody>\n",
       "</table>\n",
       "</div>"
      ],
      "text/plain": [
       "  tpep_pickup_datetime tpep_dropoff_datetime  trip_distance  PULocationID  \\\n",
       "0  2018-01-01 00:21:05   2018-01-01 00:24:23            0.5            41   \n",
       "1  2018-01-01 00:44:55   2018-01-01 01:03:05            2.7           239   \n",
       "2  2018-01-01 00:08:26   2018-01-01 00:14:21            0.8           262   \n",
       "3  2018-01-01 00:20:22   2018-01-01 00:52:51           10.2           140   \n",
       "4  2018-01-01 00:09:18   2018-01-01 00:27:06            2.5           246   \n",
       "\n",
       "   DOLocationID  fare_amount  LocationID    Borough  \n",
       "0            24          4.5          41  Manhattan  \n",
       "1           140         14.0         239  Manhattan  \n",
       "2           141          6.0         262  Manhattan  \n",
       "3           257         33.5         140  Manhattan  \n",
       "4           239         12.5         246  Manhattan  "
      ]
     },
     "execution_count": 2,
     "metadata": {},
     "output_type": "execute_result"
    }
   ],
   "source": [
    "#Month of JANUARY:\n",
    "#We imported only the columns useful to answer our Rquestion and data for which trip_distance != 0.\n",
    "\n",
    "data=pd.read_csv('/Users/Enzopc/Desktop/yellow_tripdata_2018-01.csv', usecols=['tpep_pickup_datetime','tpep_dropoff_datetime','trip_distance','PULocationID', 'DOLocationID', 'fare_amount'])\n",
    "zone=pd.read_csv('/Users/Enzopc/Desktop/taxi _zone_lookup.csv', usecols=['LocationID', 'Borough'])\n",
    "datazone=pd.merge(data, zone, how='left', left_on=['PULocationID'],right_on=['LocationID'])\n",
    "datazone=datazone[datazone.trip_distance != 0]\n",
    "\n",
    "print(\"Number of rows:\", datazone.shape[0])\n",
    "print(\"Number of columns: \", datazone.shape[1])\n",
    "datazone.head()"
   ]
  },
  {
   "cell_type": "code",
   "execution_count": 3,
   "metadata": {},
   "outputs": [],
   "source": [
    "#transformation from string to datetime\n",
    "datazone['tpep_pickup_datetime']=pd.to_datetime(datazone['tpep_pickup_datetime'], format= \"%Y-%m-%d %H:%M:%S\")\n",
    "datazone['tpep_dropoff_datetime']=pd.to_datetime(datazone['tpep_dropoff_datetime'],format= \"%Y-%m-%d %H:%M:%S\")"
   ]
  },
  {
   "cell_type": "code",
   "execution_count": 4,
   "metadata": {},
   "outputs": [],
   "source": [
    "#trip_time: difference between dropoff and pickup\n",
    "trip_duration= datazone['tpep_dropoff_datetime'] - datazone['tpep_pickup_datetime']"
   ]
  },
  {
   "cell_type": "code",
   "execution_count": 5,
   "metadata": {},
   "outputs": [],
   "source": [
    "#insert the new column\n",
    "datazone.insert(loc=2, column='trip_duration', value= trip_duration)"
   ]
  },
  {
   "cell_type": "code",
   "execution_count": 6,
   "metadata": {},
   "outputs": [],
   "source": [
    "#Conversion in minutes\n",
    "datazone.loc[:,'minutes_trip_duration']= datazone['trip_duration'].dt.seconds/60\n",
    "datazone['minutes_trip_duration']= round(datazone['minutes_trip_duration'].astype('float64'),2)"
   ]
  },
  {
   "cell_type": "code",
   "execution_count": 7,
   "metadata": {},
   "outputs": [
    {
     "data": {
      "text/plain": [
       "count    8.704498e+06\n",
       "mean     1.218203e+01\n",
       "std      1.108726e+01\n",
       "min     -4.200000e+02\n",
       "25%      6.500000e+00\n",
       "50%      9.000000e+00\n",
       "75%      1.350000e+01\n",
       "max      8.016000e+03\n",
       "Name: fare_amount, dtype: float64"
      ]
     },
     "execution_count": 7,
     "metadata": {},
     "output_type": "execute_result"
    }
   ],
   "source": [
    "datazone['fare_amount'].describe()"
   ]
  },
  {
   "cell_type": "markdown",
   "metadata": {},
   "source": [
    "***Data Cleaning***\n",
    "Fare_amount: some values are negative. The cases were considered as being machine errors during the data entry. As done for RQ4, they were replaced by their absolute values. Furthermore, as the minimum fare_amount that is chargeable for any service is $2.5, every transaction falling below that amount was replaced by the median value of the fare_amount 9.0 (50th percentile)"
   ]
  },
  {
   "cell_type": "code",
   "execution_count": 8,
   "metadata": {},
   "outputs": [],
   "source": [
    "def Clean_data(data):\n",
    "    data.fare_amount = data.fare_amount.abs()\n",
    "    indices_oi = data[(data.fare_amount<2.5)].index\n",
    "    data.loc[indices_oi,'fare_amount'] = 9.0"
   ]
  },
  {
   "cell_type": "code",
   "execution_count": 9,
   "metadata": {},
   "outputs": [],
   "source": [
    "Clean_data(datazone)"
   ]
  },
  {
   "cell_type": "code",
   "execution_count": 10,
   "metadata": {},
   "outputs": [
    {
     "data": {
      "text/plain": [
       "count    8.704498e+06\n",
       "mean     1.218917e+01\n",
       "std      1.108002e+01\n",
       "min      2.500000e+00\n",
       "25%      6.500000e+00\n",
       "50%      9.000000e+00\n",
       "75%      1.350000e+01\n",
       "max      8.016000e+03\n",
       "Name: fare_amount, dtype: float64"
      ]
     },
     "execution_count": 10,
     "metadata": {},
     "output_type": "execute_result"
    }
   ],
   "source": [
    "datazone['fare_amount'].describe()"
   ]
  },
  {
   "cell_type": "code",
   "execution_count": 11,
   "metadata": {},
   "outputs": [],
   "source": [
    "#Considering the fare amount:  Compute the price per mile equation for each trip.\n",
    "priceXmile= datazone['fare_amount']/datazone['trip_distance']"
   ]
  },
  {
   "cell_type": "code",
   "execution_count": 12,
   "metadata": {},
   "outputs": [
    {
     "data": {
      "text/html": [
       "<div>\n",
       "<style scoped>\n",
       "    .dataframe tbody tr th:only-of-type {\n",
       "        vertical-align: middle;\n",
       "    }\n",
       "\n",
       "    .dataframe tbody tr th {\n",
       "        vertical-align: top;\n",
       "    }\n",
       "\n",
       "    .dataframe thead th {\n",
       "        text-align: right;\n",
       "    }\n",
       "</style>\n",
       "<table border=\"1\" class=\"dataframe\">\n",
       "  <thead>\n",
       "    <tr style=\"text-align: right;\">\n",
       "      <th></th>\n",
       "      <th>tpep_pickup_datetime</th>\n",
       "      <th>tpep_dropoff_datetime</th>\n",
       "      <th>priceXmile</th>\n",
       "      <th>trip_duration</th>\n",
       "      <th>trip_distance</th>\n",
       "      <th>PULocationID</th>\n",
       "      <th>DOLocationID</th>\n",
       "      <th>fare_amount</th>\n",
       "      <th>LocationID</th>\n",
       "      <th>Borough</th>\n",
       "      <th>minutes_trip_duration</th>\n",
       "    </tr>\n",
       "  </thead>\n",
       "  <tbody>\n",
       "    <tr>\n",
       "      <th>0</th>\n",
       "      <td>2018-01-01 00:21:05</td>\n",
       "      <td>2018-01-01 00:24:23</td>\n",
       "      <td>9.000000</td>\n",
       "      <td>00:03:18</td>\n",
       "      <td>0.5</td>\n",
       "      <td>41</td>\n",
       "      <td>24</td>\n",
       "      <td>4.5</td>\n",
       "      <td>41</td>\n",
       "      <td>Manhattan</td>\n",
       "      <td>3.30</td>\n",
       "    </tr>\n",
       "    <tr>\n",
       "      <th>1</th>\n",
       "      <td>2018-01-01 00:44:55</td>\n",
       "      <td>2018-01-01 01:03:05</td>\n",
       "      <td>5.185185</td>\n",
       "      <td>00:18:10</td>\n",
       "      <td>2.7</td>\n",
       "      <td>239</td>\n",
       "      <td>140</td>\n",
       "      <td>14.0</td>\n",
       "      <td>239</td>\n",
       "      <td>Manhattan</td>\n",
       "      <td>18.17</td>\n",
       "    </tr>\n",
       "    <tr>\n",
       "      <th>2</th>\n",
       "      <td>2018-01-01 00:08:26</td>\n",
       "      <td>2018-01-01 00:14:21</td>\n",
       "      <td>7.500000</td>\n",
       "      <td>00:05:55</td>\n",
       "      <td>0.8</td>\n",
       "      <td>262</td>\n",
       "      <td>141</td>\n",
       "      <td>6.0</td>\n",
       "      <td>262</td>\n",
       "      <td>Manhattan</td>\n",
       "      <td>5.92</td>\n",
       "    </tr>\n",
       "    <tr>\n",
       "      <th>3</th>\n",
       "      <td>2018-01-01 00:20:22</td>\n",
       "      <td>2018-01-01 00:52:51</td>\n",
       "      <td>3.284314</td>\n",
       "      <td>00:32:29</td>\n",
       "      <td>10.2</td>\n",
       "      <td>140</td>\n",
       "      <td>257</td>\n",
       "      <td>33.5</td>\n",
       "      <td>140</td>\n",
       "      <td>Manhattan</td>\n",
       "      <td>32.48</td>\n",
       "    </tr>\n",
       "    <tr>\n",
       "      <th>4</th>\n",
       "      <td>2018-01-01 00:09:18</td>\n",
       "      <td>2018-01-01 00:27:06</td>\n",
       "      <td>5.000000</td>\n",
       "      <td>00:17:48</td>\n",
       "      <td>2.5</td>\n",
       "      <td>246</td>\n",
       "      <td>239</td>\n",
       "      <td>12.5</td>\n",
       "      <td>246</td>\n",
       "      <td>Manhattan</td>\n",
       "      <td>17.80</td>\n",
       "    </tr>\n",
       "  </tbody>\n",
       "</table>\n",
       "</div>"
      ],
      "text/plain": [
       "  tpep_pickup_datetime tpep_dropoff_datetime  priceXmile trip_duration  \\\n",
       "0  2018-01-01 00:21:05   2018-01-01 00:24:23    9.000000      00:03:18   \n",
       "1  2018-01-01 00:44:55   2018-01-01 01:03:05    5.185185      00:18:10   \n",
       "2  2018-01-01 00:08:26   2018-01-01 00:14:21    7.500000      00:05:55   \n",
       "3  2018-01-01 00:20:22   2018-01-01 00:52:51    3.284314      00:32:29   \n",
       "4  2018-01-01 00:09:18   2018-01-01 00:27:06    5.000000      00:17:48   \n",
       "\n",
       "   trip_distance  PULocationID  DOLocationID  fare_amount  LocationID  \\\n",
       "0            0.5            41            24          4.5          41   \n",
       "1            2.7           239           140         14.0         239   \n",
       "2            0.8           262           141          6.0         262   \n",
       "3           10.2           140           257         33.5         140   \n",
       "4            2.5           246           239         12.5         246   \n",
       "\n",
       "     Borough  minutes_trip_duration  \n",
       "0  Manhattan                   3.30  \n",
       "1  Manhattan                  18.17  \n",
       "2  Manhattan                   5.92  \n",
       "3  Manhattan                  32.48  \n",
       "4  Manhattan                  17.80  "
      ]
     },
     "execution_count": 12,
     "metadata": {},
     "output_type": "execute_result"
    }
   ],
   "source": [
    "#insert the new column\n",
    "datazone.insert(loc=2, column='priceXmile', value= priceXmile)\n",
    "datazone.head()"
   ]
  },
  {
   "cell_type": "code",
   "execution_count": 15,
   "metadata": {},
   "outputs": [],
   "source": [
    "#Run the mean of the new variable for each borough\n",
    "means=datazone.groupby('Borough').agg(np.mean)['priceXmile']"
   ]
  },
  {
   "cell_type": "code",
   "execution_count": 16,
   "metadata": {},
   "outputs": [],
   "source": [
    "#Run the standard deviation of the new variable for each borough\n",
    "sds=datazone.groupby('Borough').agg(np.std)['priceXmile']"
   ]
  },
  {
   "cell_type": "code",
   "execution_count": 21,
   "metadata": {},
   "outputs": [],
   "source": [
    "import scipy\n",
    "def tTest(mode1,mode2):\n",
    "    one_sample_result  = scipy.stats.ttest_ind(mode1,mode2)\n",
    "    return one_sample_result"
   ]
  },
  {
   "cell_type": "code",
   "execution_count": 23,
   "metadata": {},
   "outputs": [
    {
     "data": {
      "text/plain": [
       "[{'Manhattan->Queens': Ttest_indResult(statistic=-0.02158979709322811, pvalue=0.9827751728861396)},\n",
       " {'Manhattan->Unknown': Ttest_indResult(statistic=-99.73581441240333, pvalue=0.0)},\n",
       " {'Manhattan->Brooklyn': Ttest_indResult(statistic=1.207191555156119, pvalue=0.22735841746847013)},\n",
       " {'Manhattan->Bronx': Ttest_indResult(statistic=-4.308991822135121, pvalue=1.640023995187033e-05)},\n",
       " {'Manhattan->EWR': Ttest_indResult(statistic=-185.58228259917897, pvalue=0.0)},\n",
       " {'Manhattan->Staten Island': Ttest_indResult(statistic=-1.7138731185545457, pvalue=0.08655207002847912)},\n",
       " {'Queens->Manhattan': Ttest_indResult(statistic=0.02158979709322811, pvalue=0.9827751728861396)},\n",
       " {'Queens->Unknown': Ttest_indResult(statistic=-31.489601456915956, pvalue=1.74654810237992e-217)},\n",
       " {'Queens->Brooklyn': Ttest_indResult(statistic=0.5023041849755552, pvalue=0.6154537461226044)},\n",
       " {'Queens->Bronx': Ttest_indResult(statistic=-1.8392377287035773, pvalue=0.0658807954969867)},\n",
       " {'Queens->EWR': Ttest_indResult(statistic=-77.09757027078435, pvalue=0.0)},\n",
       " {'Queens->Staten Island': Ttest_indResult(statistic=-0.7333569420162265, pvalue=0.4633410873163346)},\n",
       " {'Unknown->Manhattan': Ttest_indResult(statistic=99.73581441240333, pvalue=0.0)},\n",
       " {'Unknown->Queens': Ttest_indResult(statistic=31.489601456915956, pvalue=1.74654810237992e-217)},\n",
       " {'Unknown->Brooklyn': Ttest_indResult(statistic=16.16067772947394, pvalue=1.0237222324189662e-58)},\n",
       " {'Unknown->Bronx': Ttest_indResult(statistic=3.6204478322183147, pvalue=0.0002941868983720131)},\n",
       " {'Unknown->EWR': Ttest_indResult(statistic=-26.79232605066972, pvalue=9.42084795213126e-158)},\n",
       " {'Unknown->Staten Island': Ttest_indResult(statistic=0.2957145605797792, pvalue=0.7674484887757538)},\n",
       " {'Brooklyn->Manhattan': Ttest_indResult(statistic=-1.207191555156119, pvalue=0.22735841746847013)},\n",
       " {'Brooklyn->Queens': Ttest_indResult(statistic=-0.5023041849755552, pvalue=0.6154537461226044)},\n",
       " {'Brooklyn->Unknown': Ttest_indResult(statistic=-16.16067772947394, pvalue=1.0237222324189662e-58)},\n",
       " {'Brooklyn->Bronx': Ttest_indResult(statistic=-2.397936046473619, pvalue=0.016489475800773295)},\n",
       " {'Brooklyn->EWR': Ttest_indResult(statistic=-74.86458212985711, pvalue=0.0)},\n",
       " {'Brooklyn->Staten Island': Ttest_indResult(statistic=-0.9308365336482611, pvalue=0.3519404074959772)},\n",
       " {'Bronx->Manhattan': Ttest_indResult(statistic=4.308991822135121, pvalue=1.640023995187033e-05)},\n",
       " {'Bronx->Queens': Ttest_indResult(statistic=1.8392377287035773, pvalue=0.0658807954969867)},\n",
       " {'Bronx->Unknown': Ttest_indResult(statistic=-3.6204478322183147, pvalue=0.0002941868983720131)},\n",
       " {'Bronx->Brooklyn': Ttest_indResult(statistic=2.397936046473619, pvalue=0.016489475800773295)},\n",
       " {'Bronx->EWR': Ttest_indResult(statistic=-28.298245028983253, pvalue=1.04330631726927e-166)},\n",
       " {'Bronx->Staten Island': Ttest_indResult(statistic=-0.7013797169099082, pvalue=0.48309014898184377)},\n",
       " {'EWR->Manhattan': Ttest_indResult(statistic=185.58228259917897, pvalue=0.0)},\n",
       " {'EWR->Queens': Ttest_indResult(statistic=77.09757027078435, pvalue=0.0)},\n",
       " {'EWR->Unknown': Ttest_indResult(statistic=26.79232605066972, pvalue=9.42084795213126e-158)},\n",
       " {'EWR->Brooklyn': Ttest_indResult(statistic=74.86458212985711, pvalue=0.0)},\n",
       " {'EWR->Bronx': Ttest_indResult(statistic=28.298245028983253, pvalue=1.04330631726927e-166)},\n",
       " {'EWR->Staten Island': Ttest_indResult(statistic=3.723428197030376, pvalue=0.00023595514432837227)},\n",
       " {'Staten Island->Manhattan': Ttest_indResult(statistic=1.7138731185545457, pvalue=0.08655207002847912)},\n",
       " {'Staten Island->Queens': Ttest_indResult(statistic=0.7333569420162265, pvalue=0.4633410873163346)},\n",
       " {'Staten Island->Unknown': Ttest_indResult(statistic=-0.2957145605797792, pvalue=0.7674484887757538)},\n",
       " {'Staten Island->Brooklyn': Ttest_indResult(statistic=0.9308365336482611, pvalue=0.3519404074959772)},\n",
       " {'Staten Island->Bronx': Ttest_indResult(statistic=0.7013797169099082, pvalue=0.48309014898184377)},\n",
       " {'Staten Island->EWR': Ttest_indResult(statistic=-3.723428197030376, pvalue=0.00023595514432837227)}]"
      ]
     },
     "execution_count": 23,
     "metadata": {},
     "output_type": "execute_result"
    }
   ],
   "source": [
    "k = datazone.Borough.value_counts()\n",
    "t_test_result = []\n",
    "list_borough = list(k.keys())\n",
    "for i in list_borough:\n",
    "    for j in list_borough:\n",
    "        if i  !=j:\n",
    "            result = tTest(datazone[datazone['Borough']==i]['priceXmile'],datazone[datazone['Borough']==j]['priceXmile'])\n",
    "            t_test_result.append({i+\"->\"+j:result})\n",
    "\n",
    "t_test_result"
   ]
  },
  {
   "cell_type": "markdown",
   "metadata": {},
   "source": [
    "***CRQ1 Part 2 : Price per mile wighted***"
   ]
  },
  {
   "cell_type": "code",
   "execution_count": 24,
   "metadata": {},
   "outputs": [],
   "source": [
    "priceXmileWeighted= datazone['priceXmile']/datazone['minutes_trip_duration']"
   ]
  },
  {
   "cell_type": "code",
   "execution_count": 25,
   "metadata": {},
   "outputs": [
    {
     "data": {
      "text/html": [
       "<div>\n",
       "<style scoped>\n",
       "    .dataframe tbody tr th:only-of-type {\n",
       "        vertical-align: middle;\n",
       "    }\n",
       "\n",
       "    .dataframe tbody tr th {\n",
       "        vertical-align: top;\n",
       "    }\n",
       "\n",
       "    .dataframe thead th {\n",
       "        text-align: right;\n",
       "    }\n",
       "</style>\n",
       "<table border=\"1\" class=\"dataframe\">\n",
       "  <thead>\n",
       "    <tr style=\"text-align: right;\">\n",
       "      <th></th>\n",
       "      <th>tpep_pickup_datetime</th>\n",
       "      <th>tpep_dropoff_datetime</th>\n",
       "      <th>priceXmileWeighted</th>\n",
       "      <th>priceXmile</th>\n",
       "      <th>trip_duration</th>\n",
       "      <th>trip_distance</th>\n",
       "      <th>PULocationID</th>\n",
       "      <th>DOLocationID</th>\n",
       "      <th>fare_amount</th>\n",
       "      <th>LocationID</th>\n",
       "      <th>Borough</th>\n",
       "      <th>minutes_trip_duration</th>\n",
       "    </tr>\n",
       "  </thead>\n",
       "  <tbody>\n",
       "    <tr>\n",
       "      <th>0</th>\n",
       "      <td>2018-01-01 00:21:05</td>\n",
       "      <td>2018-01-01 00:24:23</td>\n",
       "      <td>2.727273</td>\n",
       "      <td>9.000000</td>\n",
       "      <td>00:03:18</td>\n",
       "      <td>0.5</td>\n",
       "      <td>41</td>\n",
       "      <td>24</td>\n",
       "      <td>4.5</td>\n",
       "      <td>41</td>\n",
       "      <td>Manhattan</td>\n",
       "      <td>3.30</td>\n",
       "    </tr>\n",
       "    <tr>\n",
       "      <th>1</th>\n",
       "      <td>2018-01-01 00:44:55</td>\n",
       "      <td>2018-01-01 01:03:05</td>\n",
       "      <td>0.285371</td>\n",
       "      <td>5.185185</td>\n",
       "      <td>00:18:10</td>\n",
       "      <td>2.7</td>\n",
       "      <td>239</td>\n",
       "      <td>140</td>\n",
       "      <td>14.0</td>\n",
       "      <td>239</td>\n",
       "      <td>Manhattan</td>\n",
       "      <td>18.17</td>\n",
       "    </tr>\n",
       "    <tr>\n",
       "      <th>2</th>\n",
       "      <td>2018-01-01 00:08:26</td>\n",
       "      <td>2018-01-01 00:14:21</td>\n",
       "      <td>1.266892</td>\n",
       "      <td>7.500000</td>\n",
       "      <td>00:05:55</td>\n",
       "      <td>0.8</td>\n",
       "      <td>262</td>\n",
       "      <td>141</td>\n",
       "      <td>6.0</td>\n",
       "      <td>262</td>\n",
       "      <td>Manhattan</td>\n",
       "      <td>5.92</td>\n",
       "    </tr>\n",
       "    <tr>\n",
       "      <th>3</th>\n",
       "      <td>2018-01-01 00:20:22</td>\n",
       "      <td>2018-01-01 00:52:51</td>\n",
       "      <td>0.101118</td>\n",
       "      <td>3.284314</td>\n",
       "      <td>00:32:29</td>\n",
       "      <td>10.2</td>\n",
       "      <td>140</td>\n",
       "      <td>257</td>\n",
       "      <td>33.5</td>\n",
       "      <td>140</td>\n",
       "      <td>Manhattan</td>\n",
       "      <td>32.48</td>\n",
       "    </tr>\n",
       "    <tr>\n",
       "      <th>4</th>\n",
       "      <td>2018-01-01 00:09:18</td>\n",
       "      <td>2018-01-01 00:27:06</td>\n",
       "      <td>0.280899</td>\n",
       "      <td>5.000000</td>\n",
       "      <td>00:17:48</td>\n",
       "      <td>2.5</td>\n",
       "      <td>246</td>\n",
       "      <td>239</td>\n",
       "      <td>12.5</td>\n",
       "      <td>246</td>\n",
       "      <td>Manhattan</td>\n",
       "      <td>17.80</td>\n",
       "    </tr>\n",
       "  </tbody>\n",
       "</table>\n",
       "</div>"
      ],
      "text/plain": [
       "  tpep_pickup_datetime tpep_dropoff_datetime  priceXmileWeighted  priceXmile  \\\n",
       "0  2018-01-01 00:21:05   2018-01-01 00:24:23            2.727273    9.000000   \n",
       "1  2018-01-01 00:44:55   2018-01-01 01:03:05            0.285371    5.185185   \n",
       "2  2018-01-01 00:08:26   2018-01-01 00:14:21            1.266892    7.500000   \n",
       "3  2018-01-01 00:20:22   2018-01-01 00:52:51            0.101118    3.284314   \n",
       "4  2018-01-01 00:09:18   2018-01-01 00:27:06            0.280899    5.000000   \n",
       "\n",
       "  trip_duration  trip_distance  PULocationID  DOLocationID  fare_amount  \\\n",
       "0      00:03:18            0.5            41            24          4.5   \n",
       "1      00:18:10            2.7           239           140         14.0   \n",
       "2      00:05:55            0.8           262           141          6.0   \n",
       "3      00:32:29           10.2           140           257         33.5   \n",
       "4      00:17:48            2.5           246           239         12.5   \n",
       "\n",
       "   LocationID    Borough  minutes_trip_duration  \n",
       "0          41  Manhattan                   3.30  \n",
       "1         239  Manhattan                  18.17  \n",
       "2         262  Manhattan                   5.92  \n",
       "3         140  Manhattan                  32.48  \n",
       "4         246  Manhattan                  17.80  "
      ]
     },
     "execution_count": 25,
     "metadata": {},
     "output_type": "execute_result"
    }
   ],
   "source": [
    "datazone.insert(loc=2, column='priceXmileWeighted', value= priceXmileWeighted)\n",
    "datazone.head()"
   ]
  },
  {
   "cell_type": "code",
   "execution_count": 28,
   "metadata": {},
   "outputs": [],
   "source": [
    "#Run the mean of the new variable for each borough\n",
    "means=datazone.groupby('Borough').agg(np.mean)['priceXmileWeighted']"
   ]
  },
  {
   "cell_type": "code",
   "execution_count": 29,
   "metadata": {},
   "outputs": [],
   "source": [
    "#Run the standard deviation of the new variable for each borough\n",
    "sds=datazone.groupby('Borough').agg(np.std)['priceXmile']"
   ]
  },
  {
   "cell_type": "code",
   "execution_count": 30,
   "metadata": {},
   "outputs": [
    {
     "name": "stderr",
     "output_type": "stream",
     "text": [
      "C:\\Users\\Enzopc\\Anaconda3\\lib\\site-packages\\numpy\\core\\_methods.py:112: RuntimeWarning: invalid value encountered in subtract\n",
      "  x = asanyarray(arr - arrmean)\n",
      "C:\\Users\\Enzopc\\Anaconda3\\lib\\site-packages\\scipy\\stats\\stats.py:3842: RuntimeWarning: invalid value encountered in double_scalars\n",
      "  d = mean1 - mean2\n",
      "C:\\Users\\Enzopc\\Anaconda3\\lib\\site-packages\\scipy\\stats\\_distn_infrastructure.py:879: RuntimeWarning: invalid value encountered in greater\n",
      "  return (self.a < x) & (x < self.b)\n",
      "C:\\Users\\Enzopc\\Anaconda3\\lib\\site-packages\\scipy\\stats\\_distn_infrastructure.py:879: RuntimeWarning: invalid value encountered in less\n",
      "  return (self.a < x) & (x < self.b)\n",
      "C:\\Users\\Enzopc\\Anaconda3\\lib\\site-packages\\scipy\\stats\\_distn_infrastructure.py:1821: RuntimeWarning: invalid value encountered in less_equal\n",
      "  cond2 = cond0 & (x <= self.a)\n"
     ]
    },
    {
     "data": {
      "text/plain": [
       "[{'Manhattan->Queens': Ttest_indResult(statistic=nan, pvalue=nan)},\n",
       " {'Manhattan->Unknown': Ttest_indResult(statistic=nan, pvalue=nan)},\n",
       " {'Manhattan->Brooklyn': Ttest_indResult(statistic=nan, pvalue=nan)},\n",
       " {'Manhattan->Bronx': Ttest_indResult(statistic=nan, pvalue=nan)},\n",
       " {'Manhattan->EWR': Ttest_indResult(statistic=nan, pvalue=nan)},\n",
       " {'Manhattan->Staten Island': Ttest_indResult(statistic=nan, pvalue=nan)},\n",
       " {'Queens->Manhattan': Ttest_indResult(statistic=nan, pvalue=nan)},\n",
       " {'Queens->Unknown': Ttest_indResult(statistic=nan, pvalue=nan)},\n",
       " {'Queens->Brooklyn': Ttest_indResult(statistic=nan, pvalue=nan)},\n",
       " {'Queens->Bronx': Ttest_indResult(statistic=nan, pvalue=nan)},\n",
       " {'Queens->EWR': Ttest_indResult(statistic=nan, pvalue=nan)},\n",
       " {'Queens->Staten Island': Ttest_indResult(statistic=nan, pvalue=nan)},\n",
       " {'Unknown->Manhattan': Ttest_indResult(statistic=nan, pvalue=nan)},\n",
       " {'Unknown->Queens': Ttest_indResult(statistic=nan, pvalue=nan)},\n",
       " {'Unknown->Brooklyn': Ttest_indResult(statistic=nan, pvalue=nan)},\n",
       " {'Unknown->Bronx': Ttest_indResult(statistic=nan, pvalue=nan)},\n",
       " {'Unknown->EWR': Ttest_indResult(statistic=nan, pvalue=nan)},\n",
       " {'Unknown->Staten Island': Ttest_indResult(statistic=nan, pvalue=nan)},\n",
       " {'Brooklyn->Manhattan': Ttest_indResult(statistic=nan, pvalue=nan)},\n",
       " {'Brooklyn->Queens': Ttest_indResult(statistic=nan, pvalue=nan)},\n",
       " {'Brooklyn->Unknown': Ttest_indResult(statistic=nan, pvalue=nan)},\n",
       " {'Brooklyn->Bronx': Ttest_indResult(statistic=nan, pvalue=nan)},\n",
       " {'Brooklyn->EWR': Ttest_indResult(statistic=nan, pvalue=nan)},\n",
       " {'Brooklyn->Staten Island': Ttest_indResult(statistic=nan, pvalue=nan)},\n",
       " {'Bronx->Manhattan': Ttest_indResult(statistic=nan, pvalue=nan)},\n",
       " {'Bronx->Queens': Ttest_indResult(statistic=nan, pvalue=nan)},\n",
       " {'Bronx->Unknown': Ttest_indResult(statistic=nan, pvalue=nan)},\n",
       " {'Bronx->Brooklyn': Ttest_indResult(statistic=nan, pvalue=nan)},\n",
       " {'Bronx->EWR': Ttest_indResult(statistic=-19.584223462201503, pvalue=3.832229053564757e-83)},\n",
       " {'Bronx->Staten Island': Ttest_indResult(statistic=0.1371391992510777, pvalue=0.8909248406802023)},\n",
       " {'EWR->Manhattan': Ttest_indResult(statistic=nan, pvalue=nan)},\n",
       " {'EWR->Queens': Ttest_indResult(statistic=nan, pvalue=nan)},\n",
       " {'EWR->Unknown': Ttest_indResult(statistic=nan, pvalue=nan)},\n",
       " {'EWR->Brooklyn': Ttest_indResult(statistic=nan, pvalue=nan)},\n",
       " {'EWR->Bronx': Ttest_indResult(statistic=19.584223462201503, pvalue=3.832229053564757e-83)},\n",
       " {'EWR->Staten Island': Ttest_indResult(statistic=2.586855840212379, pvalue=0.010170971811159583)},\n",
       " {'Staten Island->Manhattan': Ttest_indResult(statistic=nan, pvalue=nan)},\n",
       " {'Staten Island->Queens': Ttest_indResult(statistic=nan, pvalue=nan)},\n",
       " {'Staten Island->Unknown': Ttest_indResult(statistic=nan, pvalue=nan)},\n",
       " {'Staten Island->Brooklyn': Ttest_indResult(statistic=nan, pvalue=nan)},\n",
       " {'Staten Island->Bronx': Ttest_indResult(statistic=-0.1371391992510777, pvalue=0.8909248406802023)},\n",
       " {'Staten Island->EWR': Ttest_indResult(statistic=-2.586855840212379, pvalue=0.010170971811159583)}]"
      ]
     },
     "execution_count": 30,
     "metadata": {},
     "output_type": "execute_result"
    }
   ],
   "source": [
    "k = datazone.Borough.value_counts()\n",
    "t_test_result = []\n",
    "list_borough = list(k.keys())\n",
    "for i in list_borough:\n",
    "    for j in list_borough:\n",
    "        if i  !=j:\n",
    "            result = tTest(datazone[datazone['Borough']==i]['priceXmileWeighted'],datazone[datazone['Borough']==j]['priceXmileWeighted'])\n",
    "            t_test_result.append({i+\"->\"+j:result})\n",
    "\n",
    "t_test_result"
   ]
  },
  {
   "cell_type": "code",
   "execution_count": null,
   "metadata": {},
   "outputs": [],
   "source": []
  },
  {
   "cell_type": "code",
   "execution_count": null,
   "metadata": {},
   "outputs": [],
   "source": []
  },
  {
   "cell_type": "code",
   "execution_count": null,
   "metadata": {},
   "outputs": [],
   "source": []
  },
  {
   "cell_type": "code",
   "execution_count": null,
   "metadata": {},
   "outputs": [],
   "source": []
  },
  {
   "cell_type": "code",
   "execution_count": null,
   "metadata": {},
   "outputs": [],
   "source": [
    "#?????????\n",
    "\n",
    "plt.hist(datazone['priceXmile'], color = 'blue', edgecolor = 'black',\n",
    "         bins = int(180/5))\n",
    "\n",
    "# seaborn histogram\n",
    "sns.distplot(datazone['priceXmile'], hist=True, kde=False, \n",
    "             bins=int(180/5), color = 'blue',\n",
    "             hist_kws={'edgecolor':'black'})\n",
    "# Add labels\n",
    "plt.title('Histogram of priceXmile')\n",
    "\n",
    "#or\n",
    "# Density Plot and Histogram \n",
    "sns.distplot(datazone['priceXmile'], hist=True, kde=True, \n",
    "             bins=100, color = 'darkblue', \n",
    "             hist_kws={'edgecolor':'black'},\n",
    "             kde_kws={'linewidth': 4})"
   ]
  }
 ],
 "metadata": {
  "kernelspec": {
   "display_name": "Python 3",
   "language": "python",
   "name": "python3"
  },
  "language_info": {
   "codemirror_mode": {
    "name": "ipython",
    "version": 3
   },
   "file_extension": ".py",
   "mimetype": "text/x-python",
   "name": "python",
   "nbconvert_exporter": "python",
   "pygments_lexer": "ipython3",
   "version": "3.6.4"
  }
 },
 "nbformat": 4,
 "nbformat_minor": 2
}
