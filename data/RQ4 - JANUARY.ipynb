{
 "cells": [
  {
   "cell_type": "markdown",
   "metadata": {},
   "source": [
    "**[RQ4] What is the most common way of payments? Discover the way payments are executed in each borough and visualize the number of payments for any possible means. Then run the Chi-squared test to see whether the method of payment is correlated to the borough. Then, comment the results.**"
   ]
  },
  {
   "cell_type": "code",
   "execution_count": 33,
   "metadata": {},
   "outputs": [
    {
     "name": "stdout",
     "output_type": "stream",
     "text": [
      "Number of rows: 8759874\n",
      "Number of columns:  7\n"
     ]
    },
    {
     "data": {
      "text/html": [
       "<div>\n",
       "<style scoped>\n",
       "    .dataframe tbody tr th:only-of-type {\n",
       "        vertical-align: middle;\n",
       "    }\n",
       "\n",
       "    .dataframe tbody tr th {\n",
       "        vertical-align: top;\n",
       "    }\n",
       "\n",
       "    .dataframe thead th {\n",
       "        text-align: right;\n",
       "    }\n",
       "</style>\n",
       "<table border=\"1\" class=\"dataframe\">\n",
       "  <thead>\n",
       "    <tr style=\"text-align: right;\">\n",
       "      <th></th>\n",
       "      <th>passenger_count</th>\n",
       "      <th>PULocationID</th>\n",
       "      <th>DOLocationID</th>\n",
       "      <th>payment_type</th>\n",
       "      <th>total_amount</th>\n",
       "      <th>LocationID</th>\n",
       "      <th>Borough</th>\n",
       "    </tr>\n",
       "  </thead>\n",
       "  <tbody>\n",
       "    <tr>\n",
       "      <th>0</th>\n",
       "      <td>1</td>\n",
       "      <td>41</td>\n",
       "      <td>24</td>\n",
       "      <td>2</td>\n",
       "      <td>5.80</td>\n",
       "      <td>41</td>\n",
       "      <td>Manhattan</td>\n",
       "    </tr>\n",
       "    <tr>\n",
       "      <th>1</th>\n",
       "      <td>1</td>\n",
       "      <td>239</td>\n",
       "      <td>140</td>\n",
       "      <td>2</td>\n",
       "      <td>15.30</td>\n",
       "      <td>239</td>\n",
       "      <td>Manhattan</td>\n",
       "    </tr>\n",
       "    <tr>\n",
       "      <th>2</th>\n",
       "      <td>2</td>\n",
       "      <td>262</td>\n",
       "      <td>141</td>\n",
       "      <td>1</td>\n",
       "      <td>8.30</td>\n",
       "      <td>262</td>\n",
       "      <td>Manhattan</td>\n",
       "    </tr>\n",
       "    <tr>\n",
       "      <th>3</th>\n",
       "      <td>1</td>\n",
       "      <td>140</td>\n",
       "      <td>257</td>\n",
       "      <td>2</td>\n",
       "      <td>34.80</td>\n",
       "      <td>140</td>\n",
       "      <td>Manhattan</td>\n",
       "    </tr>\n",
       "    <tr>\n",
       "      <th>4</th>\n",
       "      <td>2</td>\n",
       "      <td>246</td>\n",
       "      <td>239</td>\n",
       "      <td>1</td>\n",
       "      <td>16.55</td>\n",
       "      <td>246</td>\n",
       "      <td>Manhattan</td>\n",
       "    </tr>\n",
       "  </tbody>\n",
       "</table>\n",
       "</div>"
      ],
      "text/plain": [
       "   passenger_count  PULocationID  DOLocationID  payment_type  total_amount  \\\n",
       "0                1            41            24             2          5.80   \n",
       "1                1           239           140             2         15.30   \n",
       "2                2           262           141             1          8.30   \n",
       "3                1           140           257             2         34.80   \n",
       "4                2           246           239             1         16.55   \n",
       "\n",
       "   LocationID    Borough  \n",
       "0          41  Manhattan  \n",
       "1         239  Manhattan  \n",
       "2         262  Manhattan  \n",
       "3         140  Manhattan  \n",
       "4         246  Manhattan  "
      ]
     },
     "execution_count": 33,
     "metadata": {},
     "output_type": "execute_result"
    }
   ],
   "source": [
    "###month of JANUARY\n",
    "\n",
    "#We imported only the columns useful to answer our Rquestion.\n",
    "#NB:Payment_type represented by a numeric code signifying how the passenger paid for the trip.  \n",
    "#1= Credit card; 2= Cash; 3= No charge; 4= Dispute; 5= Unknown; 6= Voided trip.\n",
    "\n",
    "import pandas as pd\n",
    "import matplotlib.pyplot as plt\n",
    "import seaborn as sns\n",
    "import numpy as np\n",
    "import math\n",
    "\n",
    "data=pd.read_csv('/Users/Enzopc/Desktop/yellow_tripdata_2018-01.csv', usecols=['passenger_count','PULocationID', 'DOLocationID','payment_type','total_amount'])\n",
    "zone=pd.read_csv('/Users/Enzopc/Desktop/taxi _zone_lookup.csv', usecols=['LocationID', 'Borough'])\n",
    "datazone=pd.merge(data, zone, how='left', left_on=['PULocationID'],right_on=['LocationID'])\n",
    "\n",
    "print(\"Number of rows:\", datazone.shape[0])\n",
    "print(\"Number of columns: \", datazone.shape[1])\n",
    "datazone.head()"
   ]
  },
  {
   "cell_type": "code",
   "execution_count": 34,
   "metadata": {},
   "outputs": [
    {
     "data": {
      "text/plain": [
       "1    6105871\n",
       "2    2598947\n",
       "3      43204\n",
       "4      11852\n",
       "Name: payment_type, dtype: int64"
      ]
     },
     "execution_count": 34,
     "metadata": {},
     "output_type": "execute_result"
    }
   ],
   "source": [
    "# What is the most common way of payments? #\n",
    "datazone['payment_type'].value_counts()"
   ]
  },
  {
   "cell_type": "markdown",
   "metadata": {},
   "source": [
    "As we can see from an initial count, it seems that the most common way of payments is by credit card\n",
    "\n",
    "\n",
    "1: 6105871   2: 2598947    3: 43204    4: 11852"
   ]
  },
  {
   "cell_type": "code",
   "execution_count": 35,
   "metadata": {},
   "outputs": [
    {
     "data": {
      "text/html": [
       "<div>\n",
       "<style scoped>\n",
       "    .dataframe tbody tr th:only-of-type {\n",
       "        vertical-align: middle;\n",
       "    }\n",
       "\n",
       "    .dataframe tbody tr th {\n",
       "        vertical-align: top;\n",
       "    }\n",
       "\n",
       "    .dataframe thead th {\n",
       "        text-align: right;\n",
       "    }\n",
       "</style>\n",
       "<table border=\"1\" class=\"dataframe\">\n",
       "  <thead>\n",
       "    <tr style=\"text-align: right;\">\n",
       "      <th>Borough</th>\n",
       "      <th>Bronx</th>\n",
       "      <th>Brooklyn</th>\n",
       "      <th>EWR</th>\n",
       "      <th>Manhattan</th>\n",
       "      <th>Queens</th>\n",
       "      <th>Staten Island</th>\n",
       "      <th>Unknown</th>\n",
       "    </tr>\n",
       "    <tr>\n",
       "      <th>payment_type</th>\n",
       "      <th></th>\n",
       "      <th></th>\n",
       "      <th></th>\n",
       "      <th></th>\n",
       "      <th></th>\n",
       "      <th></th>\n",
       "      <th></th>\n",
       "    </tr>\n",
       "  </thead>\n",
       "  <tbody>\n",
       "    <tr>\n",
       "      <th>1</th>\n",
       "      <td>2939</td>\n",
       "      <td>63280</td>\n",
       "      <td>439</td>\n",
       "      <td>5564803</td>\n",
       "      <td>365207</td>\n",
       "      <td>69</td>\n",
       "      <td>109134</td>\n",
       "    </tr>\n",
       "    <tr>\n",
       "      <th>2</th>\n",
       "      <td>4114</td>\n",
       "      <td>35339</td>\n",
       "      <td>88</td>\n",
       "      <td>2356898</td>\n",
       "      <td>154704</td>\n",
       "      <td>65</td>\n",
       "      <td>47739</td>\n",
       "    </tr>\n",
       "    <tr>\n",
       "      <th>3</th>\n",
       "      <td>271</td>\n",
       "      <td>1320</td>\n",
       "      <td>33</td>\n",
       "      <td>34240</td>\n",
       "      <td>5697</td>\n",
       "      <td>9</td>\n",
       "      <td>1634</td>\n",
       "    </tr>\n",
       "    <tr>\n",
       "      <th>4</th>\n",
       "      <td>65</td>\n",
       "      <td>311</td>\n",
       "      <td>11</td>\n",
       "      <td>9762</td>\n",
       "      <td>1298</td>\n",
       "      <td>1</td>\n",
       "      <td>404</td>\n",
       "    </tr>\n",
       "  </tbody>\n",
       "</table>\n",
       "</div>"
      ],
      "text/plain": [
       "Borough       Bronx  Brooklyn  EWR  Manhattan  Queens  Staten Island  Unknown\n",
       "payment_type                                                                 \n",
       "1              2939     63280  439    5564803  365207             69   109134\n",
       "2              4114     35339   88    2356898  154704             65    47739\n",
       "3               271      1320   33      34240    5697              9     1634\n",
       "4                65       311   11       9762    1298              1      404"
      ]
     },
     "execution_count": 35,
     "metadata": {},
     "output_type": "execute_result"
    }
   ],
   "source": [
    "#But now let's see more deeply: \n",
    "#Discover the way payments are executed in each borough and visualize the number of payments for any possible means.\n",
    "\n",
    "contingency_table = pd.crosstab(datazone['payment_type'], datazone['Borough'])\n",
    "contingency_table"
   ]
  },
  {
   "cell_type": "markdown",
   "metadata": {},
   "source": [
    "**Chi-squared test to see whether the method of payment is correlated to the borough.**\n",
    "\n",
    "H0 (Null Hypothesis): There is no relationship between variable one and variable two.\n",
    "\n",
    "H1 (Alternative Hypothesis): There is a relationship between variable 1 and variable 2.\n",
    "\n",
    "If the p-value is significant, you can reject the null hypothesis and claim that the findings support the alternative hypothesis.\n",
    "\n",
    "\n",
    "Chi-square Assumptions that need to be met in order for the results of the Chi-square test to be trusted:\n",
    "\n",
    " -When testing the data, the cells should be frequencies or counts of cases and not percentages. It is okay to convert to percentages after testing the data\n",
    " \n",
    " -The levels (categories) of the variables being tested are mutually exclusive\n",
    " \n",
    " -Each participant contributes to only one cell within the Chi-square table\n",
    " \n",
    " -The groups being tested must be independent\n",
    " \n",
    " -The value of expected cells should be greater than 5\n",
    "\n",
    "If all of these assumptions are met, then Chi-square is the correct test to use."
   ]
  },
  {
   "cell_type": "code",
   "execution_count": 37,
   "metadata": {},
   "outputs": [
    {
     "data": {
      "text/plain": [
       "(14463.192599649135,\n",
       " 0.0,\n",
       " 18,\n",
       " array([[5.15033445e+03, 6.98769831e+04, 3.98002567e+02, 5.55231216e+06,\n",
       "         3.67267847e+05, 1.00371926e+02, 1.10765299e+05],\n",
       "        [2.19222553e+03, 2.97429434e+04, 1.69408685e+02, 2.36332622e+06,\n",
       "         1.56326537e+05, 4.27230309e+01, 4.71469415e+04],\n",
       "        [3.64428023e+01, 4.94436450e+02, 2.81619165e+00, 3.92871213e+04,\n",
       "         2.59871852e+03, 7.10212955e-01, 7.83754520e+02],\n",
       "        [9.99722462e+00, 1.35636997e+02, 7.72555861e-01, 1.07774966e+04,\n",
       "         7.12897230e+02, 1.94830200e-01, 2.15004596e+02]]))"
      ]
     },
     "execution_count": 37,
     "metadata": {},
     "output_type": "execute_result"
    }
   ],
   "source": [
    "from scipy import stats\n",
    "\n",
    "stats.chi2_contingency(contingency_table)"
   ]
  },
  {
   "cell_type": "markdown",
   "metadata": {},
   "source": [
    "The first value (14463.19) is the Chi-square value, followed by the p-value ~ 0, then comes the degrees of freedom (18), and lastly it outputs the expected frequencies as an array. \n",
    "Since all of the expected frequencies are greater than 5, the Chi-square test results can be trusted.\n",
    "We can reject the null hypothesis as the p-value is less than 0.05. \n",
    "Thus, the results indicate that there is a correlation/some sort of relationship between payment type and borough. For sure we do know that these two variables are not independent of each other.\n",
    "\n",
    "We could relate this result to the \"industrialization\" of boroughs. Focusing on Manhattan, Brooklyn, EWR and Queens we can see that the most common way of payment is with credit card. Fos Staten Island there's no big difference and in Bronx most of the people pay with cash."
   ]
  },
  {
   "cell_type": "code",
   "execution_count": null,
   "metadata": {},
   "outputs": [],
   "source": [
    "###Grafico per visualizzare il numero di pagamenti per ogni mezzo###\n",
    "\n",
    "#contingency_table = pd.crosstab(datazone['payment_type'], datazone['Borough'])\n",
    "#Assigns the frequency values\n",
    "#creditcard = contingency_table.iloc[0][0:6].values\n",
    "#cash = contingency_table.iloc[1][0:6].values\n",
    "#Plots the bar chart\n",
    "#fig = plt.figure(figsize=(10, 5))\n",
    "#sns.set(font_scale=1.5)\n",
    "#categories = [\"Bronx\",\"Brooklyn\",\"Manhattan\",\"Queens\",\"Staten Island\",\"Unknown\"]\n",
    "#p1 = plt.bar(categories, creditcard, color='#d62728')\n",
    "#p2 = plt.bar(categories, cash, bottom=creditcard)\n",
    "#plt.legend((p2[0], p1[0]), ('Cash', 'Credit Card'))\n",
    "#plt.xlabel('Borough')\n",
    "#plt.ylabel('Count')\n",
    "#plt.show()"
   ]
  }
 ],
 "metadata": {
  "kernelspec": {
   "display_name": "Python 3",
   "language": "python",
   "name": "python3"
  },
  "language_info": {
   "codemirror_mode": {
    "name": "ipython",
    "version": 3
   },
   "file_extension": ".py",
   "mimetype": "text/x-python",
   "name": "python",
   "nbconvert_exporter": "python",
   "pygments_lexer": "ipython3",
   "version": "3.6.4"
  }
 },
 "nbformat": 4,
 "nbformat_minor": 2
}
