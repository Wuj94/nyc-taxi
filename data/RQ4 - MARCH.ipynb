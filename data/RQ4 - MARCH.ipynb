{
 "cells": [
  {
   "cell_type": "markdown",
   "metadata": {},
   "source": [
    "**[RQ4] What is the most common way of payments? Discover the way payments are executed in each borough and visualize the number of payments for any possible means. Then run the Chi-squared test to see whether the method of payment is correlated to the borough. Then, comment the results.**"
   ]
  },
  {
   "cell_type": "code",
   "execution_count": 1,
   "metadata": {},
   "outputs": [
    {
     "name": "stdout",
     "output_type": "stream",
     "text": [
      "Number of rows: 9430376\n",
      "Number of columns:  7\n"
     ]
    },
    {
     "data": {
      "text/html": [
       "<div>\n",
       "<style scoped>\n",
       "    .dataframe tbody tr th:only-of-type {\n",
       "        vertical-align: middle;\n",
       "    }\n",
       "\n",
       "    .dataframe tbody tr th {\n",
       "        vertical-align: top;\n",
       "    }\n",
       "\n",
       "    .dataframe thead th {\n",
       "        text-align: right;\n",
       "    }\n",
       "</style>\n",
       "<table border=\"1\" class=\"dataframe\">\n",
       "  <thead>\n",
       "    <tr style=\"text-align: right;\">\n",
       "      <th></th>\n",
       "      <th>passenger_count</th>\n",
       "      <th>PULocationID</th>\n",
       "      <th>DOLocationID</th>\n",
       "      <th>payment_type</th>\n",
       "      <th>total_amount</th>\n",
       "      <th>LocationID</th>\n",
       "      <th>Borough</th>\n",
       "    </tr>\n",
       "  </thead>\n",
       "  <tbody>\n",
       "    <tr>\n",
       "      <th>0</th>\n",
       "      <td>1</td>\n",
       "      <td>145</td>\n",
       "      <td>145</td>\n",
       "      <td>2</td>\n",
       "      <td>3.80</td>\n",
       "      <td>145</td>\n",
       "      <td>Queens</td>\n",
       "    </tr>\n",
       "    <tr>\n",
       "      <th>1</th>\n",
       "      <td>1</td>\n",
       "      <td>151</td>\n",
       "      <td>244</td>\n",
       "      <td>1</td>\n",
       "      <td>17.15</td>\n",
       "      <td>151</td>\n",
       "      <td>Manhattan</td>\n",
       "    </tr>\n",
       "    <tr>\n",
       "      <th>2</th>\n",
       "      <td>1</td>\n",
       "      <td>238</td>\n",
       "      <td>152</td>\n",
       "      <td>2</td>\n",
       "      <td>11.30</td>\n",
       "      <td>238</td>\n",
       "      <td>Manhattan</td>\n",
       "    </tr>\n",
       "    <tr>\n",
       "      <th>3</th>\n",
       "      <td>1</td>\n",
       "      <td>145</td>\n",
       "      <td>145</td>\n",
       "      <td>2</td>\n",
       "      <td>3.80</td>\n",
       "      <td>145</td>\n",
       "      <td>Queens</td>\n",
       "    </tr>\n",
       "    <tr>\n",
       "      <th>4</th>\n",
       "      <td>1</td>\n",
       "      <td>145</td>\n",
       "      <td>145</td>\n",
       "      <td>2</td>\n",
       "      <td>4.30</td>\n",
       "      <td>145</td>\n",
       "      <td>Queens</td>\n",
       "    </tr>\n",
       "  </tbody>\n",
       "</table>\n",
       "</div>"
      ],
      "text/plain": [
       "   passenger_count  PULocationID  DOLocationID  payment_type  total_amount  \\\n",
       "0                1           145           145             2          3.80   \n",
       "1                1           151           244             1         17.15   \n",
       "2                1           238           152             2         11.30   \n",
       "3                1           145           145             2          3.80   \n",
       "4                1           145           145             2          4.30   \n",
       "\n",
       "   LocationID    Borough  \n",
       "0         145     Queens  \n",
       "1         151  Manhattan  \n",
       "2         238  Manhattan  \n",
       "3         145     Queens  \n",
       "4         145     Queens  "
      ]
     },
     "execution_count": 1,
     "metadata": {},
     "output_type": "execute_result"
    }
   ],
   "source": [
    "###month of MARCH\n",
    "\n",
    "#We imported only the columns useful to answer our Rquestion.\n",
    "#NB:Payment_type represented by a numeric code signifying how the passenger paid for the trip.  \n",
    "#1= Credit card; 2= Cash; 3= No charge; 4= Dispute; 5= Unknown; 6= Voided trip.\n",
    "\n",
    "import pandas as pd\n",
    "import matplotlib.pyplot as plt\n",
    "import seaborn as sns\n",
    "import numpy as np\n",
    "import math\n",
    "\n",
    "data=pd.read_csv('/Users/Enzopc/Desktop/yellow_tripdata_2018-03.csv', usecols=['passenger_count','PULocationID', 'DOLocationID','payment_type','total_amount'])\n",
    "zone=pd.read_csv('/Users/Enzopc/Desktop/taxi _zone_lookup.csv', usecols=['LocationID', 'Borough'])\n",
    "datazone=pd.merge(data, zone, how='left', left_on=['PULocationID'],right_on=['LocationID'])\n",
    "\n",
    "print(\"Number of rows:\", datazone.shape[0])\n",
    "print(\"Number of columns: \", datazone.shape[1])\n",
    "datazone.head()"
   ]
  },
  {
   "cell_type": "code",
   "execution_count": 2,
   "metadata": {},
   "outputs": [
    {
     "data": {
      "text/plain": [
       "1    6560898\n",
       "2    2804905\n",
       "3      50978\n",
       "4      13595\n",
       "Name: payment_type, dtype: int64"
      ]
     },
     "execution_count": 2,
     "metadata": {},
     "output_type": "execute_result"
    }
   ],
   "source": [
    "# What is the most common way of payments? #\n",
    "datazone['payment_type'].value_counts()"
   ]
  },
  {
   "cell_type": "markdown",
   "metadata": {},
   "source": [
    "As we can see from an initial count, it seems that the most common way of payments is by credit card\n",
    "\n",
    "\n",
    "1: 6560898   2: 2804905    3: 50978    4: 13595"
   ]
  },
  {
   "cell_type": "code",
   "execution_count": 3,
   "metadata": {},
   "outputs": [
    {
     "data": {
      "text/html": [
       "<div>\n",
       "<style scoped>\n",
       "    .dataframe tbody tr th:only-of-type {\n",
       "        vertical-align: middle;\n",
       "    }\n",
       "\n",
       "    .dataframe tbody tr th {\n",
       "        vertical-align: top;\n",
       "    }\n",
       "\n",
       "    .dataframe thead th {\n",
       "        text-align: right;\n",
       "    }\n",
       "</style>\n",
       "<table border=\"1\" class=\"dataframe\">\n",
       "  <thead>\n",
       "    <tr style=\"text-align: right;\">\n",
       "      <th>Borough</th>\n",
       "      <th>Bronx</th>\n",
       "      <th>Brooklyn</th>\n",
       "      <th>EWR</th>\n",
       "      <th>Manhattan</th>\n",
       "      <th>Queens</th>\n",
       "      <th>Staten Island</th>\n",
       "      <th>Unknown</th>\n",
       "    </tr>\n",
       "    <tr>\n",
       "      <th>payment_type</th>\n",
       "      <th></th>\n",
       "      <th></th>\n",
       "      <th></th>\n",
       "      <th></th>\n",
       "      <th></th>\n",
       "      <th></th>\n",
       "      <th></th>\n",
       "    </tr>\n",
       "  </thead>\n",
       "  <tbody>\n",
       "    <tr>\n",
       "      <th>1</th>\n",
       "      <td>4669</td>\n",
       "      <td>79629</td>\n",
       "      <td>493</td>\n",
       "      <td>5977982</td>\n",
       "      <td>386393</td>\n",
       "      <td>73</td>\n",
       "      <td>111659</td>\n",
       "    </tr>\n",
       "    <tr>\n",
       "      <th>2</th>\n",
       "      <td>5329</td>\n",
       "      <td>41518</td>\n",
       "      <td>114</td>\n",
       "      <td>2538900</td>\n",
       "      <td>170450</td>\n",
       "      <td>51</td>\n",
       "      <td>48543</td>\n",
       "    </tr>\n",
       "    <tr>\n",
       "      <th>3</th>\n",
       "      <td>267</td>\n",
       "      <td>1480</td>\n",
       "      <td>42</td>\n",
       "      <td>40555</td>\n",
       "      <td>6486</td>\n",
       "      <td>12</td>\n",
       "      <td>2136</td>\n",
       "    </tr>\n",
       "    <tr>\n",
       "      <th>4</th>\n",
       "      <td>65</td>\n",
       "      <td>310</td>\n",
       "      <td>10</td>\n",
       "      <td>11231</td>\n",
       "      <td>1524</td>\n",
       "      <td>3</td>\n",
       "      <td>452</td>\n",
       "    </tr>\n",
       "  </tbody>\n",
       "</table>\n",
       "</div>"
      ],
      "text/plain": [
       "Borough       Bronx  Brooklyn  EWR  Manhattan  Queens  Staten Island  Unknown\n",
       "payment_type                                                                 \n",
       "1              4669     79629  493    5977982  386393             73   111659\n",
       "2              5329     41518  114    2538900  170450             51    48543\n",
       "3               267      1480   42      40555    6486             12     2136\n",
       "4                65       310   10      11231    1524              3      452"
      ]
     },
     "execution_count": 3,
     "metadata": {},
     "output_type": "execute_result"
    }
   ],
   "source": [
    "#But now let's see more deeply: \n",
    "#Discover the way payments are executed in each borough and visualize the number of payments for any possible means.\n",
    "\n",
    "contingency_table = pd.crosstab(datazone['payment_type'], datazone['Borough'])\n",
    "contingency_table"
   ]
  },
  {
   "cell_type": "markdown",
   "metadata": {},
   "source": [
    "**Chi-squared test to see whether the method of payment is correlated to the borough.**\n",
    "\n",
    "H0 (Null Hypothesis): There is no relationship between variable one and variable two.\n",
    "\n",
    "H1 (Alternative Hypothesis): There is a relationship between variable 1 and variable 2.\n",
    "\n",
    "If the p-value is significant, you can reject the null hypothesis and claim that the findings support the alternative hypothesis.\n",
    "\n",
    "\n",
    "Chi-square Assumptions that need to be met in order for the results of the Chi-square test to be trusted:\n",
    "\n",
    " -When testing the data, the cells should be frequencies or counts of cases and not percentages. It is okay to convert to percentages after testing the data\n",
    " \n",
    " -The levels (categories) of the variables being tested are mutually exclusive\n",
    " \n",
    " -Each participant contributes to only one cell within the Chi-square table\n",
    " \n",
    " -The groups being tested must be independent\n",
    " \n",
    " -The value of expected cells should be greater than 5\n",
    "\n",
    "If all of these assumptions are met, then Chi-square is the correct test to use."
   ]
  },
  {
   "cell_type": "code",
   "execution_count": 4,
   "metadata": {},
   "outputs": [
    {
     "data": {
      "text/plain": [
       "(13980.172855859311,\n",
       " 0.0,\n",
       " 18,\n",
       " array([[7.18678410e+03, 8.55296880e+04, 4.58479257e+02, 5.96139080e+06,\n",
       "         3.92979338e+05, 9.67050330e+01, 1.13256204e+05],\n",
       "        [3.07248286e+03, 3.65655204e+04, 1.96008345e+02, 2.54860461e+06,\n",
       "         1.68005921e+05, 4.13431866e+01, 4.84191176e+04],\n",
       "        [5.58411181e+01, 6.64563363e+02, 3.56237143e+00, 4.63198453e+04,\n",
       "         3.05343883e+03, 7.51395490e-01, 8.79997640e+02],\n",
       "        [1.48919142e+01, 1.77228195e+02, 9.50026277e-01, 1.23527462e+04,\n",
       "         8.14302265e+02, 2.00384905e-01, 2.34680998e+02]]))"
      ]
     },
     "execution_count": 4,
     "metadata": {},
     "output_type": "execute_result"
    }
   ],
   "source": [
    "from scipy import stats\n",
    "\n",
    "stats.chi2_contingency(contingency_table)"
   ]
  },
  {
   "cell_type": "markdown",
   "metadata": {},
   "source": [
    "The first value (13980.17) is the Chi-square value, followed by the p-value ~ 0, then comes the degrees of freedom (18), and lastly it outputs the expected frequencies as an array. \n",
    "Since all of the expected frequencies are greater than 5, the Chi-square test results can be trusted.\n",
    "We can reject the null hypothesis as the p-value is less than 0.05. \n",
    "Thus, the results indicate that there is a correlation/some sort of relationship between payment type and borough. For sure we do know that these two variables are not independent of each other.\n",
    "\n",
    "We could relate this result to the \"industrialization\" of boroughs. Focusing on Manhattan, Brooklyn, EWR and Queens we can see that the most common way of payment is with credit card. Fos Staten Island there's no big difference and in Bronx most of the people pay with cash."
   ]
  },
  {
   "cell_type": "code",
   "execution_count": null,
   "metadata": {},
   "outputs": [],
   "source": [
    "###Grafico per visualizzare il numero di pagamenti per ogni mezzo###\n",
    "\n",
    "#contingency_table = pd.crosstab(datazone['payment_type'], datazone['Borough'])\n",
    "#Assigns the frequency values\n",
    "#creditcard = contingency_table.iloc[0][0:6].values\n",
    "#cash = contingency_table.iloc[1][0:6].values\n",
    "#Plots the bar chart\n",
    "#fig = plt.figure(figsize=(10, 5))\n",
    "#sns.set(font_scale=1.5)\n",
    "#categories = [\"Bronx\",\"Brooklyn\",\"Manhattan\",\"Queens\",\"Staten Island\",\"Unknown\"]\n",
    "#p1 = plt.bar(categories, creditcard, color='#d62728')\n",
    "#p2 = plt.bar(categories, cash, bottom=creditcard)\n",
    "#plt.legend((p2[0], p1[0]), ('Cash', 'Credit Card'))\n",
    "#plt.xlabel('Borough')\n",
    "#plt.ylabel('Count')\n",
    "#plt.show()"
   ]
  }
 ],
 "metadata": {
  "kernelspec": {
   "display_name": "Python 3",
   "language": "python",
   "name": "python3"
  },
  "language_info": {
   "codemirror_mode": {
    "name": "ipython",
    "version": 3
   },
   "file_extension": ".py",
   "mimetype": "text/x-python",
   "name": "python",
   "nbconvert_exporter": "python",
   "pygments_lexer": "ipython3",
   "version": "3.6.4"
  }
 },
 "nbformat": 4,
 "nbformat_minor": 2
}
