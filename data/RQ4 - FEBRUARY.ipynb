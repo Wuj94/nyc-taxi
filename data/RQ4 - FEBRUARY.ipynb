{
 "cells": [
  {
   "cell_type": "markdown",
   "metadata": {},
   "source": [
    "**[RQ4] What is the most common way of payments? Discover the way payments are executed in each borough and visualize the number of payments for any possible means. Then run the Chi-squared test to see whether the method of payment is correlated to the borough. Then, comment the results.**"
   ]
  },
  {
   "cell_type": "code",
   "execution_count": 1,
   "metadata": {},
   "outputs": [
    {
     "name": "stdout",
     "output_type": "stream",
     "text": [
      "Number of rows: 8492076\n",
      "Number of columns:  7\n"
     ]
    },
    {
     "data": {
      "text/html": [
       "<div>\n",
       "<style scoped>\n",
       "    .dataframe tbody tr th:only-of-type {\n",
       "        vertical-align: middle;\n",
       "    }\n",
       "\n",
       "    .dataframe tbody tr th {\n",
       "        vertical-align: top;\n",
       "    }\n",
       "\n",
       "    .dataframe thead th {\n",
       "        text-align: right;\n",
       "    }\n",
       "</style>\n",
       "<table border=\"1\" class=\"dataframe\">\n",
       "  <thead>\n",
       "    <tr style=\"text-align: right;\">\n",
       "      <th></th>\n",
       "      <th>passenger_count</th>\n",
       "      <th>PULocationID</th>\n",
       "      <th>DOLocationID</th>\n",
       "      <th>payment_type</th>\n",
       "      <th>total_amount</th>\n",
       "      <th>LocationID</th>\n",
       "      <th>Borough</th>\n",
       "    </tr>\n",
       "  </thead>\n",
       "  <tbody>\n",
       "    <tr>\n",
       "      <th>0</th>\n",
       "      <td>1</td>\n",
       "      <td>145</td>\n",
       "      <td>145</td>\n",
       "      <td>2</td>\n",
       "      <td>4.8</td>\n",
       "      <td>145</td>\n",
       "      <td>Queens</td>\n",
       "    </tr>\n",
       "    <tr>\n",
       "      <th>1</th>\n",
       "      <td>1</td>\n",
       "      <td>145</td>\n",
       "      <td>145</td>\n",
       "      <td>2</td>\n",
       "      <td>3.8</td>\n",
       "      <td>145</td>\n",
       "      <td>Queens</td>\n",
       "    </tr>\n",
       "    <tr>\n",
       "      <th>2</th>\n",
       "      <td>1</td>\n",
       "      <td>236</td>\n",
       "      <td>119</td>\n",
       "      <td>2</td>\n",
       "      <td>19.8</td>\n",
       "      <td>236</td>\n",
       "      <td>Manhattan</td>\n",
       "    </tr>\n",
       "    <tr>\n",
       "      <th>3</th>\n",
       "      <td>1</td>\n",
       "      <td>82</td>\n",
       "      <td>82</td>\n",
       "      <td>2</td>\n",
       "      <td>4.8</td>\n",
       "      <td>82</td>\n",
       "      <td>Queens</td>\n",
       "    </tr>\n",
       "    <tr>\n",
       "      <th>4</th>\n",
       "      <td>2</td>\n",
       "      <td>82</td>\n",
       "      <td>7</td>\n",
       "      <td>1</td>\n",
       "      <td>15.3</td>\n",
       "      <td>82</td>\n",
       "      <td>Queens</td>\n",
       "    </tr>\n",
       "  </tbody>\n",
       "</table>\n",
       "</div>"
      ],
      "text/plain": [
       "   passenger_count  PULocationID  DOLocationID  payment_type  total_amount  \\\n",
       "0                1           145           145             2           4.8   \n",
       "1                1           145           145             2           3.8   \n",
       "2                1           236           119             2          19.8   \n",
       "3                1            82            82             2           4.8   \n",
       "4                2            82             7             1          15.3   \n",
       "\n",
       "   LocationID    Borough  \n",
       "0         145     Queens  \n",
       "1         145     Queens  \n",
       "2         236  Manhattan  \n",
       "3          82     Queens  \n",
       "4          82     Queens  "
      ]
     },
     "execution_count": 1,
     "metadata": {},
     "output_type": "execute_result"
    }
   ],
   "source": [
    "###month of FEBRUARY\n",
    "\n",
    "#We imported only the columns useful to answer our Rquestion.\n",
    "#NB:Payment_type represented by a numeric code signifying how the passenger paid for the trip.  \n",
    "#1= Credit card; 2= Cash; 3= No charge; 4= Dispute; 5= Unknown; 6= Voided trip.\n",
    "\n",
    "import pandas as pd\n",
    "import matplotlib.pyplot as plt\n",
    "import seaborn as sns\n",
    "import numpy as np\n",
    "import math\n",
    "\n",
    "data=pd.read_csv('/Users/Enzopc/Desktop/yellow_tripdata_2018-02.csv', usecols=['passenger_count','PULocationID', 'DOLocationID','payment_type','total_amount'])\n",
    "zone=pd.read_csv('/Users/Enzopc/Desktop/taxi _zone_lookup.csv', usecols=['LocationID', 'Borough'])\n",
    "datazone=pd.merge(data, zone, how='left', left_on=['PULocationID'],right_on=['LocationID'])\n",
    "\n",
    "print(\"Number of rows:\", datazone.shape[0])\n",
    "print(\"Number of columns: \", datazone.shape[1])\n",
    "datazone.head()"
   ]
  },
  {
   "cell_type": "code",
   "execution_count": 2,
   "metadata": {},
   "outputs": [
    {
     "data": {
      "text/plain": [
       "1    5990799\n",
       "2    2446989\n",
       "3      42675\n",
       "4      11613\n",
       "Name: payment_type, dtype: int64"
      ]
     },
     "execution_count": 2,
     "metadata": {},
     "output_type": "execute_result"
    }
   ],
   "source": [
    "# What is the most common way of payments? #\n",
    "datazone['payment_type'].value_counts()"
   ]
  },
  {
   "cell_type": "markdown",
   "metadata": {},
   "source": [
    "As we can see from an initial count, it seems that the most common way of payments is by credit card\n",
    "\n",
    "\n",
    "1: 5990799   2: 2446989    3: 42675    4: 11613"
   ]
  },
  {
   "cell_type": "code",
   "execution_count": 3,
   "metadata": {},
   "outputs": [
    {
     "data": {
      "text/html": [
       "<div>\n",
       "<style scoped>\n",
       "    .dataframe tbody tr th:only-of-type {\n",
       "        vertical-align: middle;\n",
       "    }\n",
       "\n",
       "    .dataframe tbody tr th {\n",
       "        vertical-align: top;\n",
       "    }\n",
       "\n",
       "    .dataframe thead th {\n",
       "        text-align: right;\n",
       "    }\n",
       "</style>\n",
       "<table border=\"1\" class=\"dataframe\">\n",
       "  <thead>\n",
       "    <tr style=\"text-align: right;\">\n",
       "      <th>Borough</th>\n",
       "      <th>Bronx</th>\n",
       "      <th>Brooklyn</th>\n",
       "      <th>EWR</th>\n",
       "      <th>Manhattan</th>\n",
       "      <th>Queens</th>\n",
       "      <th>Staten Island</th>\n",
       "      <th>Unknown</th>\n",
       "    </tr>\n",
       "    <tr>\n",
       "      <th>payment_type</th>\n",
       "      <th></th>\n",
       "      <th></th>\n",
       "      <th></th>\n",
       "      <th></th>\n",
       "      <th></th>\n",
       "      <th></th>\n",
       "      <th></th>\n",
       "    </tr>\n",
       "  </thead>\n",
       "  <tbody>\n",
       "    <tr>\n",
       "      <th>1</th>\n",
       "      <td>2691</td>\n",
       "      <td>61103</td>\n",
       "      <td>397</td>\n",
       "      <td>5491193</td>\n",
       "      <td>339714</td>\n",
       "      <td>50</td>\n",
       "      <td>95651</td>\n",
       "    </tr>\n",
       "    <tr>\n",
       "      <th>2</th>\n",
       "      <td>3595</td>\n",
       "      <td>32518</td>\n",
       "      <td>69</td>\n",
       "      <td>2232650</td>\n",
       "      <td>138278</td>\n",
       "      <td>52</td>\n",
       "      <td>39827</td>\n",
       "    </tr>\n",
       "    <tr>\n",
       "      <th>3</th>\n",
       "      <td>228</td>\n",
       "      <td>1211</td>\n",
       "      <td>26</td>\n",
       "      <td>34304</td>\n",
       "      <td>5326</td>\n",
       "      <td>5</td>\n",
       "      <td>1575</td>\n",
       "    </tr>\n",
       "    <tr>\n",
       "      <th>4</th>\n",
       "      <td>52</td>\n",
       "      <td>269</td>\n",
       "      <td>5</td>\n",
       "      <td>9734</td>\n",
       "      <td>1203</td>\n",
       "      <td>1</td>\n",
       "      <td>349</td>\n",
       "    </tr>\n",
       "  </tbody>\n",
       "</table>\n",
       "</div>"
      ],
      "text/plain": [
       "Borough       Bronx  Brooklyn  EWR  Manhattan  Queens  Staten Island  Unknown\n",
       "payment_type                                                                 \n",
       "1              2691     61103  397    5491193  339714             50    95651\n",
       "2              3595     32518   69    2232650  138278             52    39827\n",
       "3               228      1211   26      34304    5326              5     1575\n",
       "4                52       269    5       9734    1203              1      349"
      ]
     },
     "execution_count": 3,
     "metadata": {},
     "output_type": "execute_result"
    }
   ],
   "source": [
    "#But now let's see more deeply: \n",
    "#Discover the way payments are executed in each borough and visualize the number of payments for any possible means.\n",
    "\n",
    "contingency_table = pd.crosstab(datazone['payment_type'], datazone['Borough'])\n",
    "contingency_table"
   ]
  },
  {
   "cell_type": "markdown",
   "metadata": {},
   "source": [
    "**Chi-squared test to see whether the method of payment is correlated to the borough.**\n",
    "\n",
    "H0 (Null Hypothesis): There is no relationship between variable one and variable two.\n",
    "\n",
    "H1 (Alternative Hypothesis): There is a relationship between variable 1 and variable 2.\n",
    "\n",
    "If the p-value is significant, you can reject the null hypothesis and claim that the findings support the alternative hypothesis.\n",
    "\n",
    "\n",
    "Chi-square Assumptions that need to be met in order for the results of the Chi-square test to be trusted:\n",
    "\n",
    " -When testing the data, the cells should be frequencies or counts of cases and not percentages. It is okay to convert to percentages after testing the data\n",
    " \n",
    " -The levels (categories) of the variables being tested are mutually exclusive\n",
    " \n",
    " -Each participant contributes to only one cell within the Chi-square table\n",
    " \n",
    " -The groups being tested must be independent\n",
    " \n",
    " -The value of expected cells should be greater than 5\n",
    "\n",
    "If all of these assumptions are met, then Chi-square is the correct test to use."
   ]
  },
  {
   "cell_type": "code",
   "execution_count": 4,
   "metadata": {},
   "outputs": [
    {
     "data": {
      "text/plain": [
       "(12698.78107337389,\n",
       " 0.0,\n",
       " 18,\n",
       " array([[4.63203417e+03, 6.70897170e+04, 3.50612395e+02, 5.47991018e+06,\n",
       "         3.41808990e+05, 7.61894138e+01, 9.69312762e+04],\n",
       "        [1.89199081e+03, 2.74033229e+04, 1.43210392e+02, 2.23831244e+06,\n",
       "         1.39614572e+05, 3.11201657e+01, 3.95923426e+04],\n",
       "        [3.29959423e+01, 4.77908485e+02, 2.49756067e+00, 3.90357224e+04,\n",
       "         2.43485029e+03, 5.42729481e-01, 6.90482557e+02],\n",
       "        [8.97907155e+00, 1.30051581e+02, 6.79652537e-01, 1.06226560e+04,\n",
       "         6.62587378e+02, 1.47691095e-01, 1.87898628e+02]]))"
      ]
     },
     "execution_count": 4,
     "metadata": {},
     "output_type": "execute_result"
    }
   ],
   "source": [
    "from scipy import stats\n",
    "\n",
    "stats.chi2_contingency(contingency_table)"
   ]
  },
  {
   "cell_type": "markdown",
   "metadata": {},
   "source": [
    "The first value (12698.78) is the Chi-square value, followed by the p-value ~ 0, then comes the degrees of freedom (18), and lastly it outputs the expected frequencies as an array. \n",
    "Since all of the expected frequencies are greater than 5, the Chi-square test results can be trusted.\n",
    "We can reject the null hypothesis as the p-value is less than 0.05. \n",
    "Thus, the results indicate that there is a correlation/some sort of relationship between payment type and borough. For sure we do know that these two variables are not independent of each other.\n",
    "\n",
    "We could relate this result to the \"industrialization\" of boroughs. Focusing on Manhattan, Brooklyn, EWR and Queens we can see that the most common way of payment is with credit card. Fos Staten Island there's no big difference and in Bronx most of the people pay with cash."
   ]
  },
  {
   "cell_type": "code",
   "execution_count": null,
   "metadata": {},
   "outputs": [],
   "source": [
    "###Grafico per visualizzare il numero di pagamenti per ogni mezzo###\n",
    "\n",
    "#contingency_table = pd.crosstab(datazone['payment_type'], datazone['Borough'])\n",
    "#Assigns the frequency values\n",
    "#creditcard = contingency_table.iloc[0][0:6].values\n",
    "#cash = contingency_table.iloc[1][0:6].values\n",
    "#Plots the bar chart\n",
    "#fig = plt.figure(figsize=(10, 5))\n",
    "#sns.set(font_scale=1.5)\n",
    "#categories = [\"Bronx\",\"Brooklyn\",\"Manhattan\",\"Queens\",\"Staten Island\",\"Unknown\"]\n",
    "#p1 = plt.bar(categories, creditcard, color='#d62728')\n",
    "#p2 = plt.bar(categories, cash, bottom=creditcard)\n",
    "#plt.legend((p2[0], p1[0]), ('Cash', 'Credit Card'))\n",
    "#plt.xlabel('Borough')\n",
    "#plt.ylabel('Count')\n",
    "#plt.show()"
   ]
  }
 ],
 "metadata": {
  "kernelspec": {
   "display_name": "Python 3",
   "language": "python",
   "name": "python3"
  },
  "language_info": {
   "codemirror_mode": {
    "name": "ipython",
    "version": 3
   },
   "file_extension": ".py",
   "mimetype": "text/x-python",
   "name": "python",
   "nbconvert_exporter": "python",
   "pygments_lexer": "ipython3",
   "version": "3.6.4"
  }
 },
 "nbformat": 4,
 "nbformat_minor": 2
}
